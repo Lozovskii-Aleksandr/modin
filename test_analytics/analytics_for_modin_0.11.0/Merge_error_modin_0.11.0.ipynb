{
 "cells": [
  {
   "cell_type": "markdown",
   "id": "29eb8332",
   "metadata": {},
   "source": [
    "# Merge the errors from different tests"
   ]
  },
  {
   "cell_type": "markdown",
   "id": "232524a8",
   "metadata": {},
   "source": [
    "Specify the folder from where you want to import json for analysis"
   ]
  },
  {
   "cell_type": "code",
   "execution_count": 1,
   "id": "1398615e",
   "metadata": {},
   "outputs": [],
   "source": [
    "path_dir = 'json_analytics_from_test'"
   ]
  },
  {
   "cell_type": "markdown",
   "id": "1edb55bc",
   "metadata": {},
   "source": [
    "Specify the number of the last lines for which to merge errors"
   ]
  },
  {
   "cell_type": "code",
   "execution_count": 2,
   "id": "55a90fd5",
   "metadata": {},
   "outputs": [],
   "source": [
    "number_line = 9"
   ]
  },
  {
   "cell_type": "markdown",
   "id": "335a6841",
   "metadata": {},
   "source": [
    "The following block is needed to import the module from the parent folder"
   ]
  },
  {
   "cell_type": "code",
   "execution_count": 3,
   "id": "f71277d7",
   "metadata": {},
   "outputs": [],
   "source": [
    "import os\n",
    "import sys\n",
    "import inspect\n",
    "\n",
    "currentdir = os.path.dirname(os.path.abspath(inspect.getfile(inspect.currentframe())))\n",
    "parentdir = os.path.dirname(currentdir)\n",
    "sys.path.insert(0, parentdir) "
   ]
  },
  {
   "cell_type": "code",
   "execution_count": 4,
   "id": "b954bd8e",
   "metadata": {},
   "outputs": [],
   "source": [
    "from ParseOutputPytest import ParseOutputPytest\n",
    "pop = ParseOutputPytest()"
   ]
  },
  {
   "cell_type": "code",
   "execution_count": 5,
   "id": "3fec0c8d",
   "metadata": {},
   "outputs": [
    {
     "data": {
      "text/plain": [
       "'json_analytics_from_test'"
      ]
     },
     "execution_count": 5,
     "metadata": {},
     "output_type": "execute_result"
    }
   ],
   "source": [
    "path_dir"
   ]
  },
  {
   "cell_type": "code",
   "execution_count": 6,
   "id": "06c462e9",
   "metadata": {},
   "outputs": [],
   "source": [
    "# Get a list of tests in the folder\n",
    "import os\n",
    "list_files = tuple(os.walk(path_dir))[0][2]"
   ]
  },
  {
   "cell_type": "code",
   "execution_count": 7,
   "id": "5d6c4c20",
   "metadata": {},
   "outputs": [],
   "source": [
    "# Get for each file - dict\n",
    "list_dict = []\n",
    "for name_file_test in list_files:\n",
    "    new_dict = pop.get_dict_name_with_error_text(f'{path_dir}\\\\{name_file_test}')\n",
    "    list_dict.append(new_dict)\n",
    "\n",
    "# Merge dicts in one dict\n",
    "res_dict = {}\n",
    "for dict_for_test in list_dict:\n",
    "    res_dict.update(dict_for_test)\n",
    "    \n",
    "# Group the names by errors\n",
    "res_dict_group = pop.get_dict_error_with_list_test(res_dict, number_line)"
   ]
  },
  {
   "cell_type": "code",
   "execution_count": 8,
   "id": "e2f9865b",
   "metadata": {
    "scrolled": true
   },
   "outputs": [
    {
     "name": "stdout",
     "output_type": "stream",
     "text": [
      "Total errors:   8652\n",
      "Unique errors:  230\n"
     ]
    }
   ],
   "source": [
    "print(\"Total errors:  \", len(res_dict))\n",
    "print(\"Unique errors: \", len(res_dict_group))"
   ]
  },
  {
   "cell_type": "code",
   "execution_count": 9,
   "id": "4bfa1313",
   "metadata": {
    "scrolled": true
   },
   "outputs": [
    {
     "name": "stdout",
     "output_type": "stream",
     "text": [
      "-----------------------------------------------------------------------\n",
      "======= Remote Traceback =======\n",
      " ... \n",
      "E     File \"C:\\Users\\alozovsk\\Anaconda3\\envs\\modin\\lib\\site-packages\\rpyc\\core\\brine.py\", line 194, in _dump\n",
      "E       _dump_registry.get(type(obj), _undumpable)(obj, stream)\n",
      "E     File \"C:\\Users\\alozovsk\\Anaconda3\\envs\\modin\\lib\\site-packages\\rpyc\\core\\brine.py\", line 186, in _dump_tuple\n",
      "E       _dump(item, stream)\n",
      "E     File \"C:\\Users\\alozovsk\\Anaconda3\\envs\\modin\\lib\\site-packages\\rpyc\\core\\brine.py\", line 194, in _dump\n",
      "E       _dump_registry.get(type(obj), _undumpable)(obj, stream)\n",
      "E     File \"C:\\Users\\alozovsk\\Anaconda3\\envs\\modin\\lib\\site-packages\\rpyc\\core\\brine.py\", line 190, in _undumpable\n",
      "E       raise TypeError(\"cannot dump %r\" % (obj,))\n",
      "E   TypeError: cannot dump <member '____id_pack__' of 'BaseNetref' objects> \n",
      "\n",
      "Occurs in 4256 tests.\n",
      "     modin/pandas/test/test_rolling.py::test_dataframe_dt_index[3-both-None-0]\n",
      "     modin/pandas/test/test_rolling.py::test_dataframe_dt_index[3-both-None-columns]\n",
      "     modin/pandas/test/test_rolling.py::test_dataframe_dt_index[3-both-DateCol-0]\n",
      "     modin/pandas/test/test_rolling.py::test_dataframe_dt_index[3-both-DateCol-columns]\n",
      "     modin/pandas/test/test_rolling.py::test_dataframe_dt_index[3-right-None-0]\n",
      "And also in 4251 tests.\n",
      "-----------------------------------------------------------------------\n",
      "\n",
      "\n",
      "-----------------------------------------------------------------------\n",
      "======= Remote Traceback =======\n",
      " ... \n",
      "E     File \"C:\\Users\\alozovsk\\Anaconda3\\envs\\modin\\lib\\site-packages\\pandas\\core\\internals\\managers.py\", line 1773, in create_block_manager_from_arrays\n",
      "E       blocks = _form_blocks(arrays, names, axes, consolidate)\n",
      "E     File \"C:\\Users\\alozovsk\\Anaconda3\\envs\\modin\\lib\\site-packages\\pandas\\core\\internals\\managers.py\", line 1838, in _form_blocks\n",
      "E       numeric_blocks = _multi_blockify(\n",
      "E     File \"C:\\Users\\alozovsk\\Anaconda3\\envs\\modin\\lib\\site-packages\\pandas\\core\\internals\\managers.py\", line 1928, in _multi_blockify\n",
      "E       values, placement = _stack_arrays(\n",
      "E     File \"C:\\Users\\alozovsk\\Anaconda3\\envs\\modin\\lib\\site-packages\\pandas\\core\\internals\\managers.py\", line 1957, in _stack_arrays\n",
      "E       stacked = np.empty(shape, dtype=dtype)\n",
      "E   TypeError: Cannot interpret 'dtype('int32')' as a data type \n",
      "\n",
      "Occurs in 1475 tests.\n",
      "     modin/pandas/test/test_rolling.py::test_dataframe[None-None-5-int_data]\n",
      "     modin/pandas/test/test_rolling.py::test_dataframe[None-None-100-int_data]\n",
      "     modin/pandas/test/test_rolling.py::test_dataframe[None-5-5-int_data]\n",
      "     modin/pandas/test/test_rolling.py::test_dataframe[None-5-100-int_data]\n",
      "     modin/pandas/test/test_rolling.py::test_dataframe[triang-None-5-int_data]\n",
      "And also in 1470 tests.\n",
      "-----------------------------------------------------------------------\n",
      "\n",
      "\n",
      "-----------------------------------------------------------------------\n",
      "======= Remote Traceback =======\n",
      " ... \n",
      "E     File \"C:\\Users\\alozovsk\\Anaconda3\\envs\\modin\\lib\\site-packages\\pandas\\core\\dtypes\\common.py\", line 1764, in pandas_dtype\n",
      "E       if isinstance(dtype, np.ndarray):\n",
      "E     File \"C:\\Users\\alozovsk\\Anaconda3\\envs\\modin\\lib\\site-packages\\pandas\\core\\dtypes\\common.py\", line 1764, in pandas_dtype\n",
      "E       if isinstance(dtype, np.ndarray):\n",
      "E     File \"C:\\Users\\alozovsk\\Anaconda3\\envs\\modin\\lib\\bdb.py\", line 88, in trace_dispatch\n",
      "E       return self.dispatch_line(frame)\n",
      "E     File \"C:\\Users\\alozovsk\\Anaconda3\\envs\\modin\\lib\\bdb.py\", line 113, in dispatch_line\n",
      "E       if self.quitting: raise BdbQuit\n",
      "E   bdb.BdbQuit \n",
      "\n",
      "Occurs in 909 tests.\n",
      "     modin/pandas/test/test_series.py::test_to_frame[int_data]\n",
      "     modin/pandas/test/test_series.py::test_callable_key_in_getitem[int_data]\n",
      "     modin/pandas/test/test_series.py::test_T[int_data]\n",
      "     modin/pandas/test/test_series.py::test___abs__[int_data]\n",
      "     modin/pandas/test/test_series.py::test___add__[int_data]\n",
      "And also in 904 tests.\n",
      "-----------------------------------------------------------------------\n",
      "\n",
      "\n",
      "-----------------------------------------------------------------------\n",
      "======= Remote Traceback =======\n",
      " ... \n",
      "E     File \"C:\\Users\\alozovsk\\Anaconda3\\envs\\modin\\lib\\site-packages\\rpyc\\core\\protocol.py\", line 640, in _handle_callattr\n",
      "E       return self._handle_call(obj, args, kwargs)\n",
      "E     File \"C:\\Users\\alozovsk\\Anaconda3\\envs\\modin\\lib\\site-packages\\rpyc\\core\\protocol.py\", line 614, in _handle_call\n",
      "E       return obj(*args, **dict(kwargs))\n",
      "E     File \"C:\\Users\\alozovsk\\Anaconda3\\envs\\modin\\lib\\site-packages\\pandas\\core\\indexes\\multi.py\", line 2060, in __getitem__\n",
      "E       new_codes = [level_codes[key] for level_codes in self.codes]\n",
      "E     File \"C:\\Users\\alozovsk\\Anaconda3\\envs\\modin\\lib\\site-packages\\pandas\\core\\indexes\\multi.py\", line 2060, in <listcomp>\n",
      "E       new_codes = [level_codes[key] for level_codes in self.codes]\n",
      "E   IndexError: only integers, slices (`:`), ellipsis (`...`), numpy.newaxis (`None`) and integer or boolean arrays are valid indices \n",
      "\n",
      "Occurs in 401 tests.\n",
      "     modin/pandas/test/test_series.py::test_apply_text_func[count-float_nan_data-None-None]\n",
      "     modin/pandas/test/test_series.py::test_apply_text_func[count-float_nan_data-None-0]\n",
      "     modin/pandas/test/test_series.py::test_apply_text_func[count-float_nan_data-None-1]\n",
      "     modin/pandas/test/test_series.py::test_apply_text_func[count-float_nan_data--1-None]\n",
      "     modin/pandas/test/test_series.py::test_apply_text_func[count-float_nan_data--1-0]\n",
      "And also in 396 tests.\n",
      "-----------------------------------------------------------------------\n",
      "\n",
      "\n",
      "-----------------------------------------------------------------------\n",
      "======= Remote Traceback =======\n",
      " ... \n",
      "E     File \"C:\\Users\\alozovsk\\Anaconda3\\envs\\modin\\lib\\site-packages\\rpyc\\core\\protocol.py\", line 326, in _dispatch_request\n",
      "E       res = self._HANDLERS[handler](self, *args)\n",
      "E     File \"C:\\Users\\alozovsk\\Anaconda3\\envs\\modin\\lib\\site-packages\\rpyc\\core\\protocol.py\", line 640, in _handle_callattr\n",
      "E       return self._handle_call(obj, args, kwargs)\n",
      "E     File \"C:\\Users\\alozovsk\\Anaconda3\\envs\\modin\\lib\\site-packages\\rpyc\\core\\protocol.py\", line 614, in _handle_call\n",
      "E       return obj(*args, **dict(kwargs))\n",
      "E     File \"C:\\Users\\alozovsk\\Anaconda3\\envs\\modin\\lib\\site-packages\\pandas\\core\\indexes\\base.py\", line 4609, in __getitem__\n",
      "E       result = getitem(key)\n",
      "E   IndexError: only integers, slices (`:`), ellipsis (`...`), numpy.newaxis (`None`) and integer or boolean arrays are valid indices \n",
      "\n",
      "Occurs in 302 tests.\n",
      "     modin/pandas/test/test_series.py::test_asof[where8]\n",
      "     modin/pandas/test/test_series.py::test_asof[where9]\n",
      "     modin/pandas/test/test_series.py::test_asof_large[where4]\n",
      "     modin/pandas/test/test_series.py::test_asof_large[where5]\n",
      "     modin/pandas/test/dataframe/test_default.py::test_stack[float_nan_data-col_index-idx_multi]\n",
      "And also in 297 tests.\n",
      "-----------------------------------------------------------------------\n",
      "\n",
      "\n",
      "-----------------------------------------------------------------------\n",
      "======= Remote Traceback =======\n",
      " ... \n",
      "E     File \"C:\\prog\\modin\\modin\\backends\\pandas\\query_compiler.py\", line 661, in columnarize\n",
      "E       return self.transpose()\n",
      "E     File \"C:\\prog\\modin\\modin\\backends\\pandas\\query_compiler.py\", line 655, in transpose\n",
      "E       return self.__constructor__(self._modin_frame.transpose())\n",
      "E     File \"C:\\prog\\modin\\modin\\engines\\base\\frame\\data.py\", line 2272, in transpose\n",
      "E       np.full(len(self.index), find_common_type(self.dtypes.values)),\n",
      "E     File \"C:\\prog\\modin\\modin\\backends\\pandas\\parsers.py\", line 126, in find_common_type_cat\n",
      "E       np.sort(np.unique([c for t in types for c in t.categories])[0]),\n",
      "E   IndexError: index 0 is out of bounds for axis 0 with size 0 \n",
      "\n",
      "Occurs in 165 tests.\n",
      "     modin/pandas/test/dataframe/test_reduction.py::test_min_max_mean[data0-over_rows_int-skipna_True-numeric_only_True-False-min]\n",
      "     modin/pandas/test/dataframe/test_reduction.py::test_min_max_mean[data0-over_rows_int-skipna_True-numeric_only_True-False-max]\n",
      "     modin/pandas/test/dataframe/test_reduction.py::test_min_max_mean[data0-over_rows_int-skipna_True-numeric_only_True-False-mean]\n",
      "     modin/pandas/test/dataframe/test_reduction.py::test_min_max_mean[data0-over_rows_int-skipna_True-numeric_only_True-True-min]\n",
      "     modin/pandas/test/dataframe/test_reduction.py::test_min_max_mean[data0-over_rows_int-skipna_True-numeric_only_True-True-max]\n",
      "And also in 160 tests.\n",
      "-----------------------------------------------------------------------\n",
      "\n",
      "\n",
      "-----------------------------------------------------------------------\n",
      "======= Remote Traceback =======\n",
      " ... \n",
      "E       new_modin_frame = self._modin_frame.mask(col_indices=key)\n",
      "E     File \"C:\\prog\\modin\\modin\\engines\\base\\frame\\data.py\", line 495, in mask\n",
      "E       col_partitions_list = self._get_dict_of_block_index(1, col_numeric_idx)\n",
      "E     File \"C:\\prog\\modin\\modin\\engines\\base\\frame\\data.py\", line 986, in _get_dict_of_block_index\n",
      "E       indices = np.sort(\n",
      "E     File \"<__array_function__ internals>\", line 5, in sort\n",
      "E     File \"C:\\Users\\alozovsk\\Anaconda3\\envs\\modin\\lib\\site-packages\\numpy\\core\\fromnumeric.py\", line 997, in sort\n",
      "E       a = asanyarray(a).copy(order=\"K\")\n",
      "E   ValueError: object __array__ method not producing an array \n",
      "\n",
      "Occurs in 54 tests.\n",
      "     modin/pandas/test/test_series.py::test_apply_external_lib\n",
      "     modin/pandas/test/test_groupby.py::test_mixed_dtypes_groupby[True]\n",
      "     modin/pandas/test/test_groupby.py::test_mixed_dtypes_groupby[False]\n",
      "     modin/pandas/test/test_groupby.py::test_simple_row_groupby[True-True-col1]\n",
      "     modin/pandas/test/test_groupby.py::test_simple_row_groupby[True-True-by3]\n",
      "And also in 49 tests.\n",
      "-----------------------------------------------------------------------\n",
      "\n",
      "\n",
      "-----------------------------------------------------------------------\n",
      "E   _get_exception_class.<locals>.Derived: 'list' object is not callable\n",
      "E   \n",
      "E   ========= Remote Traceback (1) =========\n",
      "E   Traceback (most recent call last):\n",
      "E     File \"C:\\Users\\alozovsk\\Anaconda3\\envs\\modin\\lib\\site-packages\\rpyc\\core\\protocol.py\", line 326, in _dispatch_request\n",
      "E       res = self._HANDLERS[handler](self, *args)\n",
      "E     File \"C:\\Users\\alozovsk\\Anaconda3\\envs\\modin\\lib\\site-packages\\rpyc\\core\\protocol.py\", line 614, in _handle_call\n",
      "E       return obj(*args, **dict(kwargs))\n",
      "E   TypeError: 'list' object is not callable \n",
      "\n",
      "Occurs in 49 tests.\n",
      "     modin/pandas/test/test_series.py::test_constructor_columns_and_index\n",
      "     modin/pandas/test/test_series.py::test_iloc[float_nan_data]\n",
      "     modin/pandas/test/test_series.py::test_loc[float_nan_data]\n",
      "     modin/pandas/test/test_series.py::test_take\n",
      "     modin/pandas/test/test_reshape.py::test_wide_to_long\n",
      "And also in 44 tests.\n",
      "-----------------------------------------------------------------------\n",
      "\n",
      "\n",
      "-----------------------------------------------------------------------\n",
      "modin\\pandas\\test\\test_series.py:3088: in test_sum\n",
      "    eval_general(\n",
      "modin\\pandas\\test\\utils.py:725: in eval_general\n",
      "    comparator(*values)\n",
      "modin\\pandas\\test\\utils.py:576: in df_equals\n",
      "    np.testing.assert_almost_equal(df1, df2)\n",
      "C:\\Users\\alozovsk\\Anaconda3\\envs\\modin\\lib\\site-packages\\numpy\\testing\\_private\\utils.py:129: in gisfinite\n",
      "    st = isfinite(x)\n",
      "E   ValueError: object __array__ method not producing an array \n",
      "\n",
      "Occurs in 48 tests.\n",
      "     modin/pandas/test/test_series.py::test_sum[min_count_-5-numeric_only_False-skipna_True-over_rows_int-small]\n",
      "     modin/pandas/test/test_series.py::test_sum[min_count_-5-numeric_only_False-skipna_True-over_rows_str-small]\n",
      "     modin/pandas/test/test_series.py::test_sum[min_count_-5-numeric_only_False-skipna_False-over_rows_int-small]\n",
      "     modin/pandas/test/test_series.py::test_sum[min_count_-5-numeric_only_False-skipna_False-over_rows_str-small]\n",
      "     modin/pandas/test/test_series.py::test_sum[min_count_-5-numeric_only_False-skipna_None-over_rows_int-small]\n",
      "And also in 43 tests.\n",
      "-----------------------------------------------------------------------\n",
      "\n",
      "\n",
      "-----------------------------------------------------------------------\n",
      "======= Remote Traceback =======\n",
      " ... \n",
      "E     File \"C:\\prog\\modin\\modin\\pandas\\dataframe.py\", line 172, in __init__\n",
      "E       pandas_df = pandas.DataFrame(\n",
      "E     File \"C:\\Users\\alozovsk\\Anaconda3\\envs\\modin\\lib\\site-packages\\pandas\\core\\frame.py\", line 702, in __init__\n",
      "E       mgr = arrays_to_mgr(\n",
      "E     File \"C:\\Users\\alozovsk\\Anaconda3\\envs\\modin\\lib\\site-packages\\pandas\\core\\internals\\construction.py\", line 135, in arrays_to_mgr\n",
      "E       return create_block_manager_from_arrays(\n",
      "E     File \"C:\\Users\\alozovsk\\Anaconda3\\envs\\modin\\lib\\site-packages\\pandas\\core\\internals\\managers.py\", line 1776, in create_block_manager_from_arrays\n",
      "E       raise construction_error(len(arrays), arrays[0].shape, axes, e)\n",
      "E   ValueError: Shape of passed values is (4, 4), indices imply (2, 4) \n",
      "\n",
      "Occurs in 41 tests.\n",
      "     modin/pandas/test/dataframe/test_reduction.py::test_prod[data0-over_columns_int-skipna_True-False-prod]\n",
      "     modin/pandas/test/dataframe/test_reduction.py::test_prod[data0-over_columns_int-skipna_True-False-product]\n",
      "     modin/pandas/test/dataframe/test_reduction.py::test_prod[data0-over_columns_int-skipna_True-True-prod]\n",
      "     modin/pandas/test/dataframe/test_reduction.py::test_prod[data0-over_columns_int-skipna_True-True-product]\n",
      "     modin/pandas/test/dataframe/test_reduction.py::test_prod[data0-over_columns_int-skipna_False-False-prod]\n",
      "And also in 36 tests.\n",
      "-----------------------------------------------------------------------\n",
      "\n",
      "\n"
     ]
    }
   ],
   "source": [
    "pop.print_top_most_frequent_errors(res_dict, number_line, 10)"
   ]
  }
 ],
 "metadata": {
  "kernelspec": {
   "display_name": "Python 3",
   "language": "python",
   "name": "python3"
  },
  "language_info": {
   "codemirror_mode": {
    "name": "ipython",
    "version": 3
   },
   "file_extension": ".py",
   "mimetype": "text/x-python",
   "name": "python",
   "nbconvert_exporter": "python",
   "pygments_lexer": "ipython3",
   "version": "3.8.11"
  }
 },
 "nbformat": 4,
 "nbformat_minor": 5
}
