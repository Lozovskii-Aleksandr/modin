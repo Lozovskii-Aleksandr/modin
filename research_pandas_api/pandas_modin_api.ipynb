{
 "cells": [
  {
   "cell_type": "markdown",
   "metadata": {},
   "source": [
    "## Получим методы DataFrame у pandas и modin"
   ]
  },
  {
   "cell_type": "code",
   "execution_count": 1,
   "metadata": {},
   "outputs": [],
   "source": [
    "from pandas_modin_api import get_all_method_pandas, get_all_method_modin"
   ]
  },
  {
   "cell_type": "code",
   "execution_count": 2,
   "metadata": {},
   "outputs": [],
   "source": [
    "methods_modin = get_all_method_modin()\n",
    "methods_pandas = get_all_method_pandas()"
   ]
  },
  {
   "cell_type": "code",
   "execution_count": 3,
   "metadata": {},
   "outputs": [
    {
     "data": {
      "text/plain": [
       "200"
      ]
     },
     "execution_count": 3,
     "metadata": {},
     "output_type": "execute_result"
    }
   ],
   "source": [
    "# Количество методов у modin (с сайта документации)\n",
    "len(methods_modin)"
   ]
  },
  {
   "cell_type": "code",
   "execution_count": 4,
   "metadata": {},
   "outputs": [
    {
     "data": {
      "text/plain": [
       "213"
      ]
     },
     "execution_count": 4,
     "metadata": {},
     "output_type": "execute_result"
    }
   ],
   "source": [
    "# Количество методов у pandas (с сайта документации)\n",
    "len(methods_pandas)"
   ]
  },
  {
   "cell_type": "code",
   "execution_count": 5,
   "metadata": {},
   "outputs": [
    {
     "data": {
      "text/plain": [
       "['__iter__',\n",
       " 'attrs',\n",
       " 'backfill',\n",
       " 'columns',\n",
       " 'convert_dtypes',\n",
       " 'flags',\n",
       " 'index',\n",
       " 'pad',\n",
       " 'set_flags',\n",
       " 'to_markdown',\n",
       " 'to_numpy',\n",
       " 'to_xml',\n",
       " 'xs']"
      ]
     },
     "execution_count": 5,
     "metadata": {},
     "output_type": "execute_result"
    }
   ],
   "source": [
    "# Каких методов нет в `modin`\n",
    "sorted(list(set(methods_pandas) - set(methods_modin)))"
   ]
  },
  {
   "cell_type": "code",
   "execution_count": 6,
   "metadata": {},
   "outputs": [
    {
     "data": {
      "text/plain": [
       "[]"
      ]
     },
     "execution_count": 6,
     "metadata": {},
     "output_type": "execute_result"
    }
   ],
   "source": [
    "# Каких методов нет в pandas\n",
    "sorted(list(set(methods_modin) - set(methods_pandas)))"
   ]
  },
  {
   "cell_type": "markdown",
   "metadata": {},
   "source": [
    "## Заметки"
   ]
  },
  {
   "cell_type": "markdown",
   "metadata": {},
   "source": [
    "Есть такие штуки в `pandas` их куда?\n",
    "\n",
    "- pandas.Flags\n",
    "\n",
    "\n",
    "- pandas.DataFrame.plot\n",
    "- pandas.DataFrame.plot.area\n",
    "- pandas.DataFrame.plot.bar\n",
    "- pandas.DataFrame.plot.barh\n",
    "- pandas.DataFrame.plot.box\n",
    "- pandas.DataFrame.plot.density\n",
    "- pandas.DataFrame.plot.hexbin\n",
    "- pandas.DataFrame.plot.hist\n",
    "- pandas.DataFrame.plot.kde\n",
    "- pandas.DataFrame.plot.line\n",
    "- pandas.DataFrame.plot.pie\n",
    "- pandas.DataFrame.plot.scatter\n",
    "\n",
    "\n",
    "- pandas.DataFrame.sparse.density\n",
    "- pandas.DataFrame.sparse.from_spmatrix\n",
    "- pandas.DataFrame.sparse.to_coo\n",
    "- pandas.DataFrame.sparse.to_dense"
   ]
  },
  {
   "cell_type": "markdown",
   "metadata": {},
   "source": [
    "---"
   ]
  },
  {
   "cell_type": "markdown",
   "metadata": {},
   "source": [
    "Это есть в реальности, но нет в документации:\n",
    "\n",
    "- `__iter__` -- `Y`\n",
    "- `attrs` -- `D`\n",
    "- `backfill` -- `?` - Аналог `bfill`, который `Y`. При этом `bfill` использует `fillna`, который помечен `P` \n",
    "- `columns` -- `Y`\n",
    "- `convert_dtypes` - `D` (один из параметров не используется)\n",
    "- `flags` -- `D`\n",
    "- `index` -- `Y`\n",
    "- `pad` -- `?` - Аналог `ffill`, который `Y`. При этом `ffill` использует `fillna`, который помечен `P` \n",
    "- `set_flags` -- `D`\n",
    "- `to_markdown` -- `D`\n",
    "- `to_numpy` -- `Y`\n",
    "- `to_xml` -- `D`\n",
    "- `xs` -- `D`\n"
   ]
  },
  {
   "cell_type": "markdown",
   "metadata": {},
   "source": [
    "---"
   ]
  }
 ],
 "metadata": {
  "interpreter": {
   "hash": "66ad06332eb5f898799e5432ba9e2ed5e6f7fda6dee1674a7e77481d937246e0"
  },
  "kernelspec": {
   "display_name": "Python 3",
   "language": "python",
   "name": "python3"
  },
  "language_info": {
   "codemirror_mode": {
    "name": "ipython",
    "version": 3
   },
   "file_extension": ".py",
   "mimetype": "text/x-python",
   "name": "python",
   "nbconvert_exporter": "python",
   "pygments_lexer": "ipython3",
   "version": "3.8.8"
  }
 },
 "nbformat": 4,
 "nbformat_minor": 2
}
