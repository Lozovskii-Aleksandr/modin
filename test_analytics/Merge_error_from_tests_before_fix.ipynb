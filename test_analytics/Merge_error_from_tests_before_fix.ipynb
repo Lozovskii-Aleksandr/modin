{
 "cells": [
  {
   "cell_type": "markdown",
   "id": "29eb8332",
   "metadata": {},
   "source": [
    "# Merge the errors from different tests"
   ]
  },
  {
   "cell_type": "markdown",
   "id": "232524a8",
   "metadata": {},
   "source": [
    "Specify the folder from where you want to import json for analysis"
   ]
  },
  {
   "cell_type": "code",
   "execution_count": 1,
   "id": "1398615e",
   "metadata": {},
   "outputs": [],
   "source": [
    "path_dir = 'json_analytics_from_test\\\\suite_windows_test_before_fix'"
   ]
  },
  {
   "cell_type": "markdown",
   "id": "1edb55bc",
   "metadata": {},
   "source": [
    "Specify the number of the last lines for which to merge errors"
   ]
  },
  {
   "cell_type": "code",
   "execution_count": 2,
   "id": "55a90fd5",
   "metadata": {},
   "outputs": [],
   "source": [
    "number_line = 9"
   ]
  },
  {
   "cell_type": "code",
   "execution_count": 3,
   "id": "b954bd8e",
   "metadata": {},
   "outputs": [],
   "source": [
    "from ParseOutputPytest import ParseOutputPytest\n",
    "pop = ParseOutputPytest()"
   ]
  },
  {
   "cell_type": "code",
   "execution_count": 4,
   "id": "06c462e9",
   "metadata": {},
   "outputs": [],
   "source": [
    "# Get a list of tests in the folder\n",
    "import os\n",
    "list_files = tuple(os.walk(path_dir))[0][2]"
   ]
  },
  {
   "cell_type": "code",
   "execution_count": 5,
   "id": "5d6c4c20",
   "metadata": {},
   "outputs": [],
   "source": [
    "# Get for each file - dict\n",
    "list_dict = []\n",
    "for name_file_test in list_files:\n",
    "    new_dict = pop.get_dict_name_with_error_text(f'{path_dir}\\\\{name_file_test}')\n",
    "    list_dict.append(new_dict)\n",
    "\n",
    "# Merge dicts in one dict\n",
    "res_dict = {}\n",
    "for dict_for_test in list_dict:\n",
    "    res_dict.update(dict_for_test)\n",
    "    \n",
    "# Group the names by errors\n",
    "res_dict_group = pop.get_dict_error_with_list_test(res_dict, number_line)"
   ]
  },
  {
   "cell_type": "code",
   "execution_count": 6,
   "id": "e2f9865b",
   "metadata": {
    "scrolled": true
   },
   "outputs": [
    {
     "name": "stdout",
     "output_type": "stream",
     "text": [
      "Total errors:   9223\n",
      "Unique errors:  190\n"
     ]
    }
   ],
   "source": [
    "print(\"Total errors:  \", len(res_dict))\n",
    "print(\"Unique errors: \", len(res_dict_group))"
   ]
  },
  {
   "cell_type": "code",
   "execution_count": 7,
   "id": "4bfa1313",
   "metadata": {},
   "outputs": [
    {
     "name": "stdout",
     "output_type": "stream",
     "text": [
      "-----------------------------------------------------------------------\n",
      "======= Remote Traceback =======\n",
      "E       self._get_axis(axis).identical(ax)\n",
      "E     File \"C:\\Users\\alozovsk\\Anaconda3\\envs\\modin\\lib\\site-packages\\pandas\\core\\indexes\\base.py\", line 4485, in identical\n",
      "E       self.equals(other)\n",
      "E     File \"C:\\Users\\alozovsk\\Anaconda3\\envs\\modin\\lib\\site-packages\\pandas\\core\\indexes\\multi.py\", line 3464, in equals\n",
      "E       other_values = algos.take_nd(\n",
      "E     File \"C:\\Users\\alozovsk\\Anaconda3\\envs\\modin\\lib\\site-packages\\pandas\\core\\algorithms.py\", line 1708, in take_nd\n",
      "E       indexer = ensure_int64(indexer, copy=False)\n",
      "E     File \"pandas\\_libs\\algos_common_helper.pxi\", line 93, in pandas._libs.algos.ensure_int64\n",
      "E   TypeError: __array__() takes 1 positional argument but 2 were given \n",
      "\n",
      "Occurs in 2436 tests.\n",
      "     modin/pandas/test/dataframe/test_indexing.py::test_reset_index_with_multi_index_no_drop[True-0-False-no_col_fill-no_col_level-no_level-True-3-float_nan_data]\n",
      "     modin/pandas/test/dataframe/test_indexing.py::test_reset_index_with_multi_index_no_drop[True-0-False-no_col_fill-no_col_level-None-True-3-float_nan_data]\n",
      "     modin/pandas/test/dataframe/test_indexing.py::test_reset_index_with_multi_index_no_drop[True-0-False-no_col_fill-no_col_level-0-True-3-float_nan_data]\n",
      "     modin/pandas/test/dataframe/test_indexing.py::test_reset_index_with_multi_index_no_drop[True-0-False-no_col_fill-no_col_level-1-True-3-float_nan_data]\n",
      "     modin/pandas/test/dataframe/test_indexing.py::test_reset_index_with_multi_index_no_drop[True-0-False-no_col_fill-no_col_level-2-True-3-float_nan_data]\n",
      "And also in 2431 tests.\n",
      "-----------------------------------------------------------------------\n",
      "\n",
      "\n",
      "-----------------------------------------------------------------------\n",
      "======= Remote Traceback =======\n",
      "E     File \"C:\\Users\\alozovsk\\Anaconda3\\envs\\modin\\lib\\site-packages\\pandas\\core\\internals\\construction.py\", line 355, in _homogenize\n",
      "E       val = sanitize_array(\n",
      "E     File \"C:\\Users\\alozovsk\\Anaconda3\\envs\\modin\\lib\\site-packages\\pandas\\core\\construction.py\", line 482, in sanitize_array\n",
      "E       subarr = maybe_convert_platform(data)\n",
      "E     File \"C:\\Users\\alozovsk\\Anaconda3\\envs\\modin\\lib\\site-packages\\pandas\\core\\dtypes\\cast.py\", line 112, in maybe_convert_platform\n",
      "E       values = construct_1d_object_array_from_listlike(values)\n",
      "E     File \"C:\\Users\\alozovsk\\Anaconda3\\envs\\modin\\lib\\site-packages\\pandas\\core\\dtypes\\cast.py\", line 1639, in construct_1d_object_array_from_listlike\n",
      "E       result[:] = values\n",
      "E   TypeError: __array__() takes 1 positional argument but 2 were given \n",
      "\n",
      "Occurs in 2305 tests.\n",
      "     modin/pandas/test/dataframe/test_binary.py::test_math_functions[add-rows-scalar]\n",
      "     modin/pandas/test/dataframe/test_binary.py::test_math_functions[add-rows-series_or_list]\n",
      "     modin/pandas/test/dataframe/test_binary.py::test_math_functions[add-columns-scalar]\n",
      "     modin/pandas/test/dataframe/test_binary.py::test_math_functions[add-columns-series_or_list]\n",
      "     modin/pandas/test/dataframe/test_binary.py::test_math_functions[radd-rows-scalar]\n",
      "And also in 2300 tests.\n",
      "-----------------------------------------------------------------------\n",
      "\n",
      "\n",
      "-----------------------------------------------------------------------\n",
      "======= Remote Traceback =======\n",
      "E     File \"C:\\Users\\alozovsk\\Anaconda3\\envs\\modin\\lib\\site-packages\\pandas\\core\\series.py\", line 364, in __init__\n",
      "E       data = sanitize_array(data, index, dtype, copy, raise_cast_failure=True)\n",
      "E     File \"C:\\Users\\alozovsk\\Anaconda3\\envs\\modin\\lib\\site-packages\\pandas\\core\\construction.py\", line 480, in sanitize_array\n",
      "E       subarr = _try_cast(data, dtype, copy, raise_cast_failure)\n",
      "E     File \"C:\\Users\\alozovsk\\Anaconda3\\envs\\modin\\lib\\site-packages\\pandas\\core\\construction.py\", line 598, in _try_cast\n",
      "E       subarr = construct_1d_object_array_from_listlike(subarr)\n",
      "E     File \"C:\\Users\\alozovsk\\Anaconda3\\envs\\modin\\lib\\site-packages\\pandas\\core\\dtypes\\cast.py\", line 1639, in construct_1d_object_array_from_listlike\n",
      "E       result[:] = values\n",
      "E   TypeError: __array__() takes 1 positional argument but 2 were given \n",
      "\n",
      "Occurs in 1637 tests.\n",
      "     modin/pandas/test/dataframe/test_join_sort.py::test_sort_values[None-ignore_index_True-first-quicksort-inplace_True-ascending_True-over_rows_int-multiindex_level0-int_data]\n",
      "     modin/pandas/test/dataframe/test_join_sort.py::test_sort_values[None-ignore_index_True-first-quicksort-inplace_True-ascending_True-over_rows_int-multiindex_level1,multiindex_level0-int_data]\n",
      "     modin/pandas/test/dataframe/test_join_sort.py::test_sort_values[None-ignore_index_True-first-quicksort-inplace_True-ascending_True-over_rows_int-multiindex_level0,last,first,multiindex_level1-int_data]\n",
      "     modin/pandas/test/dataframe/test_join_sort.py::test_sort_values[None-ignore_index_True-first-quicksort-inplace_True-ascending_True-over_rows_str-multiindex_level0-int_data]\n",
      "     modin/pandas/test/dataframe/test_join_sort.py::test_sort_values[None-ignore_index_True-first-quicksort-inplace_True-ascending_True-over_rows_str-multiindex_level1,multiindex_level0-int_data]\n",
      "And also in 1632 tests.\n",
      "-----------------------------------------------------------------------\n",
      "\n",
      "\n",
      "-----------------------------------------------------------------------\n",
      "C:\\Users\\alozovsk\\Anaconda3\\envs\\modin\\lib\\site-packages\\pandas\\_testing.py:744: in _check_types\n",
      "    assert_attr_equal(\"dtype\", left, right, obj=obj)\n",
      "C:\\Users\\alozovsk\\Anaconda3\\envs\\modin\\lib\\site-packages\\pandas\\core\\dtypes\\inference.py:68: in is_number\n",
      "    return isinstance(obj, (Number, np.number))\n",
      "C:\\Users\\alozovsk\\Anaconda3\\envs\\modin\\lib\\abc.py:98: in __instancecheck__\n",
      "    return _abc_instancecheck(cls, instance)\n",
      "C:\\Users\\alozovsk\\Anaconda3\\envs\\modin\\lib\\abc.py:102: in __subclasscheck__\n",
      "    return _abc_subclasscheck(cls, subclass)\n",
      "E   TypeError: issubclass() arg 1 must be a class \n",
      "\n",
      "Occurs in 1249 tests.\n",
      "     modin/pandas/test/dataframe/test_binary.py::test_mismatched_row_partitions[idx_not_aligned-ser_ser_same_name-True]\n",
      "     modin/pandas/test/dataframe/test_binary.py::test_mismatched_row_partitions[idx_not_aligned-ser_ser_same_name-False]\n",
      "     modin/pandas/test/dataframe/test_binary.py::test_mismatched_row_partitions[idx_not_aligned-ser_ser_different_name-True]\n",
      "     modin/pandas/test/dataframe/test_binary.py::test_mismatched_row_partitions[idx_not_aligned-ser_ser_different_name-False]\n",
      "     modin/pandas/test/dataframe/test_default.py::test_dot[int_data]\n",
      "And also in 1244 tests.\n",
      "-----------------------------------------------------------------------\n",
      "\n",
      "\n",
      "-----------------------------------------------------------------------\n",
      "E   ========= Remote Traceback (1) =========\n",
      "E   Traceback (most recent call last):\n",
      "E     File \"C:\\Users\\alozovsk\\Anaconda3\\envs\\modin\\lib\\site-packages\\rpyc\\core\\protocol.py\", line 320, in _dispatch_request\n",
      "E       res = self._HANDLERS[handler](self, *args)\n",
      "E     File \"C:\\Users\\alozovsk\\Anaconda3\\envs\\modin\\lib\\site-packages\\rpyc\\core\\protocol.py\", line 593, in _handle_call\n",
      "E       return obj(*args, **dict(kwargs))\n",
      "E     File \"C:\\prog\\modin\\modin\\experimental\\cloud\\rpyc_proxy.py\", line 38, in _pickled_array\n",
      "E       return pickle.dumps(obj.__array__())\n",
      "E   AttributeError: 'slice' object has no attribute '__array__' \n",
      "\n",
      "Occurs in 278 tests.\n",
      "     modin/pandas/test/dataframe/test_binary.py::test_math_functions_level[add]\n",
      "     modin/pandas/test/dataframe/test_binary.py::test_math_functions_level[radd]\n",
      "     modin/pandas/test/dataframe/test_binary.py::test_math_functions_level[sub]\n",
      "     modin/pandas/test/dataframe/test_binary.py::test_math_functions_level[rsub]\n",
      "     modin/pandas/test/dataframe/test_binary.py::test_math_functions_level[mod]\n",
      "And also in 273 tests.\n",
      "-----------------------------------------------------------------------\n",
      "\n",
      "\n"
     ]
    }
   ],
   "source": [
    "pop.print_top_most_frequent_errors(res_dict, number_line, 5)"
   ]
  },
  {
   "cell_type": "code",
   "execution_count": null,
   "id": "6848f7b0",
   "metadata": {},
   "outputs": [],
   "source": []
  }
 ],
 "metadata": {
  "kernelspec": {
   "display_name": "Python 3",
   "language": "python",
   "name": "python3"
  },
  "language_info": {
   "codemirror_mode": {
    "name": "ipython",
    "version": 3
   },
   "file_extension": ".py",
   "mimetype": "text/x-python",
   "name": "python",
   "nbconvert_exporter": "python",
   "pygments_lexer": "ipython3",
   "version": "3.8.11"
  }
 },
 "nbformat": 4,
 "nbformat_minor": 5
}
