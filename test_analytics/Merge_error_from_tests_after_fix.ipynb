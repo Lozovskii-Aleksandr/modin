{
 "cells": [
  {
   "cell_type": "markdown",
   "id": "29eb8332",
   "metadata": {},
   "source": [
    "# Merge the errors from different tests"
   ]
  },
  {
   "cell_type": "markdown",
   "id": "232524a8",
   "metadata": {},
   "source": [
    "Specify the folder from where you want to import json for analysis"
   ]
  },
  {
   "cell_type": "code",
   "execution_count": 1,
   "id": "1398615e",
   "metadata": {},
   "outputs": [],
   "source": [
    "path_dir = 'json_analytics_from_test\\\\suite_windows_test_after_fix'"
   ]
  },
  {
   "cell_type": "markdown",
   "id": "1edb55bc",
   "metadata": {},
   "source": [
    "Specify the number of the last lines for which to merge errors"
   ]
  },
  {
   "cell_type": "code",
   "execution_count": 2,
   "id": "55a90fd5",
   "metadata": {},
   "outputs": [],
   "source": [
    "number_line = 9"
   ]
  },
  {
   "cell_type": "code",
   "execution_count": 3,
   "id": "b954bd8e",
   "metadata": {},
   "outputs": [],
   "source": [
    "from ParseOutputPytest import ParseOutputPytest\n",
    "pop = ParseOutputPytest()"
   ]
  },
  {
   "cell_type": "code",
   "execution_count": 4,
   "id": "06c462e9",
   "metadata": {},
   "outputs": [],
   "source": [
    "# Get a list of tests in the folder\n",
    "import os\n",
    "list_files = tuple(os.walk(path_dir))[0][2]"
   ]
  },
  {
   "cell_type": "code",
   "execution_count": 5,
   "id": "5d6c4c20",
   "metadata": {},
   "outputs": [],
   "source": [
    "# Get for each file - dict\n",
    "list_dict = []\n",
    "for name_file_test in list_files:\n",
    "    new_dict = pop.get_dict_name_with_error_text(f'{path_dir}\\\\{name_file_test}')\n",
    "    list_dict.append(new_dict)\n",
    "\n",
    "# Merge dicts in one dict\n",
    "res_dict = {}\n",
    "for dict_for_test in list_dict:\n",
    "    res_dict.update(dict_for_test)\n",
    "    \n",
    "# Group the names by errors\n",
    "res_dict_group = pop.get_dict_error_with_list_test(res_dict, number_line)"
   ]
  },
  {
   "cell_type": "code",
   "execution_count": 6,
   "id": "e2f9865b",
   "metadata": {},
   "outputs": [
    {
     "name": "stdout",
     "output_type": "stream",
     "text": [
      "Total errors:   8352\n",
      "Unique errors:  250\n"
     ]
    }
   ],
   "source": [
    "print(\"Total errors:  \", len(res_dict))\n",
    "print(\"Unique errors: \", len(res_dict_group))"
   ]
  },
  {
   "cell_type": "code",
   "execution_count": 7,
   "id": "4bfa1313",
   "metadata": {},
   "outputs": [
    {
     "name": "stdout",
     "output_type": "stream",
     "text": [
      "-----------------------------------------------------------------------\n",
      "======= Remote Traceback =======\n",
      " ... \n",
      "E     File \"C:\\Users\\mi\\anaconda3\\envs\\modin\\lib\\site-packages\\rpyc\\core\\brine.py\", line 192, in _dump\n",
      "E       _dump_registry.get(type(obj), _undumpable)(obj, stream)\n",
      "E     File \"C:\\Users\\mi\\anaconda3\\envs\\modin\\lib\\site-packages\\rpyc\\core\\brine.py\", line 184, in _dump_tuple\n",
      "E       _dump(item, stream)\n",
      "E     File \"C:\\Users\\mi\\anaconda3\\envs\\modin\\lib\\site-packages\\rpyc\\core\\brine.py\", line 192, in _dump\n",
      "E       _dump_registry.get(type(obj), _undumpable)(obj, stream)\n",
      "E     File \"C:\\Users\\mi\\anaconda3\\envs\\modin\\lib\\site-packages\\rpyc\\core\\brine.py\", line 188, in _undumpable\n",
      "E       raise TypeError(\"cannot dump %r\" % (obj,))\n",
      "E   TypeError: cannot dump <member '____id_pack__' of 'BaseNetref' objects> \n",
      "\n",
      "Occurs in 4256 tests.\n",
      "     modin/pandas/test/dataframe/test_indexing.py::test_reset_index_with_multi_index_no_drop[True-0-False-no_col_fill-no_col_level-no_level-True-3-float_nan_data]\n",
      "     modin/pandas/test/dataframe/test_indexing.py::test_reset_index_with_multi_index_no_drop[True-0-False-no_col_fill-no_col_level-no_level-False-3-float_nan_data]\n",
      "     modin/pandas/test/dataframe/test_indexing.py::test_reset_index_with_multi_index_no_drop[True-0-False-no_col_fill-no_col_level-None-True-3-float_nan_data]\n",
      "     modin/pandas/test/dataframe/test_indexing.py::test_reset_index_with_multi_index_no_drop[True-0-False-no_col_fill-no_col_level-None-False-3-float_nan_data]\n",
      "     modin/pandas/test/dataframe/test_indexing.py::test_reset_index_with_multi_index_no_drop[True-0-False-no_col_fill-no_col_level-0-True-3-float_nan_data]\n",
      "And also in 4251 tests.\n",
      "-----------------------------------------------------------------------\n",
      "\n",
      "\n",
      "-----------------------------------------------------------------------\n",
      "======= Remote Traceback =======\n",
      " ... \n",
      "E     File \"C:\\Users\\mi\\anaconda3\\envs\\modin\\lib\\site-packages\\pandas\\core\\internals\\managers.py\", line 1769, in create_block_manager_from_arrays\n",
      "E       blocks = _form_blocks(arrays, names, axes, consolidate)\n",
      "E     File \"C:\\Users\\mi\\anaconda3\\envs\\modin\\lib\\site-packages\\pandas\\core\\internals\\managers.py\", line 1834, in _form_blocks\n",
      "E       numeric_blocks = _multi_blockify(\n",
      "E     File \"C:\\Users\\mi\\anaconda3\\envs\\modin\\lib\\site-packages\\pandas\\core\\internals\\managers.py\", line 1924, in _multi_blockify\n",
      "E       values, placement = _stack_arrays(\n",
      "E     File \"C:\\Users\\mi\\anaconda3\\envs\\modin\\lib\\site-packages\\pandas\\core\\internals\\managers.py\", line 1953, in _stack_arrays\n",
      "E       stacked = np.empty(shape, dtype=dtype)\n",
      "E   TypeError: Cannot interpret 'dtype('int32')' as a data type \n",
      "\n",
      "Occurs in 1297 tests.\n",
      "     modin/pandas/test/dataframe/test_binary.py::test_math_functions_fill_value[add-None-check_missing_value]\n",
      "     modin/pandas/test/dataframe/test_binary.py::test_math_functions_fill_value[add-None-check_different_index]\n",
      "     modin/pandas/test/dataframe/test_binary.py::test_math_functions_fill_value[add-3.0-check_missing_value]\n",
      "     modin/pandas/test/dataframe/test_binary.py::test_math_functions_fill_value[add-3.0-check_different_index]\n",
      "     modin/pandas/test/dataframe/test_binary.py::test_math_functions_fill_value[radd-None-check_missing_value]\n",
      "And also in 1292 tests.\n",
      "-----------------------------------------------------------------------\n",
      "\n",
      "\n",
      "-----------------------------------------------------------------------\n",
      "======= Remote Traceback =======\n",
      " ... \n",
      "E     File \"C:\\Users\\mi\\anaconda3\\envs\\modin\\lib\\site-packages\\pandas\\core\\internals\\managers.py\", line 1570, in from_array\n",
      "E       block = new_block(array, placement=slice(0, len(index)), ndim=1)\n",
      "E     File \"C:\\Users\\mi\\anaconda3\\envs\\modin\\lib\\site-packages\\pandas\\core\\internals\\blocks.py\", line 1925, in new_block\n",
      "E       klass = get_block_type(values, values.dtype)\n",
      "E     File \"C:\\Users\\mi\\anaconda3\\envs\\modin\\lib\\site-packages\\pandas\\core\\internals\\blocks.py\", line 1890, in get_block_type\n",
      "E       dtype = cast(np.dtype, pandas_dtype(dtype) if dtype else values.dtype)\n",
      "E     File \"C:\\Users\\mi\\anaconda3\\envs\\modin\\lib\\site-packages\\pandas\\core\\dtypes\\common.py\", line 1776, in pandas_dtype\n",
      "E       npdtype = np.dtype(dtype)\n",
      "E   TypeError: Cannot interpret 'dtype('int32')' as a data type \n",
      "\n",
      "Occurs in 711 tests.\n",
      "     modin/pandas/test/dataframe/test_default.py::test_dot[float_nan_data]\n",
      "     modin/pandas/test/dataframe/test_default.py::test_matmul[float_nan_data]\n",
      "     modin/pandas/test/dataframe/test_indexing.py::test___setitem__partitions_aligning\n",
      "     modin/pandas/test/test_groupby.py::test_series_groupby[0-by0]\n",
      "     modin/pandas/test/test_groupby.py::test_series_groupby[0-<lambda>]\n",
      "And also in 706 tests.\n",
      "-----------------------------------------------------------------------\n",
      "\n",
      "\n",
      "-----------------------------------------------------------------------\n",
      "======= Remote Traceback =======\n",
      " ... \n",
      "E     File \"C:\\Users\\mi\\anaconda3\\envs\\modin\\lib\\site-packages\\rpyc\\core\\protocol.py\", line 619, in _handle_callattr\n",
      "E       return self._handle_call(obj, args, kwargs)\n",
      "E     File \"C:\\Users\\mi\\anaconda3\\envs\\modin\\lib\\site-packages\\rpyc\\core\\protocol.py\", line 593, in _handle_call\n",
      "E       return obj(*args, **dict(kwargs))\n",
      "E     File \"C:\\Users\\mi\\anaconda3\\envs\\modin\\lib\\site-packages\\pandas\\core\\indexes\\multi.py\", line 2060, in __getitem__\n",
      "E       new_codes = [level_codes[key] for level_codes in self.codes]\n",
      "E     File \"C:\\Users\\mi\\anaconda3\\envs\\modin\\lib\\site-packages\\pandas\\core\\indexes\\multi.py\", line 2060, in <listcomp>\n",
      "E       new_codes = [level_codes[key] for level_codes in self.codes]\n",
      "E   IndexError: only integers, slices (`:`), ellipsis (`...`), numpy.newaxis (`None`) and integer or boolean arrays are valid indices \n",
      "\n",
      "Occurs in 413 tests.\n",
      "     modin/pandas/test/dataframe/test_binary.py::test_multi_level_comparison[float_nan_data-eq]\n",
      "     modin/pandas/test/dataframe/test_binary.py::test_multi_level_comparison[float_nan_data-ge]\n",
      "     modin/pandas/test/dataframe/test_binary.py::test_multi_level_comparison[float_nan_data-gt]\n",
      "     modin/pandas/test/dataframe/test_binary.py::test_multi_level_comparison[float_nan_data-le]\n",
      "     modin/pandas/test/dataframe/test_binary.py::test_multi_level_comparison[float_nan_data-lt]\n",
      "And also in 408 tests.\n",
      "-----------------------------------------------------------------------\n",
      "\n",
      "\n",
      "-----------------------------------------------------------------------\n",
      "======= Remote Traceback =======\n",
      " ... \n",
      "E     File \"C:\\Users\\mi\\anaconda3\\envs\\modin\\lib\\site-packages\\rpyc\\core\\protocol.py\", line 320, in _dispatch_request\n",
      "E       res = self._HANDLERS[handler](self, *args)\n",
      "E     File \"C:\\Users\\mi\\anaconda3\\envs\\modin\\lib\\site-packages\\rpyc\\core\\protocol.py\", line 619, in _handle_callattr\n",
      "E       return self._handle_call(obj, args, kwargs)\n",
      "E     File \"C:\\Users\\mi\\anaconda3\\envs\\modin\\lib\\site-packages\\rpyc\\core\\protocol.py\", line 593, in _handle_call\n",
      "E       return obj(*args, **dict(kwargs))\n",
      "E     File \"C:\\Users\\mi\\anaconda3\\envs\\modin\\lib\\site-packages\\pandas\\core\\indexes\\base.py\", line 4609, in __getitem__\n",
      "E       result = getitem(key)\n",
      "E   IndexError: only integers, slices (`:`), ellipsis (`...`), numpy.newaxis (`None`) and integer or boolean arrays are valid indices \n",
      "\n",
      "Occurs in 302 tests.\n",
      "     modin/pandas/test/dataframe/test_default.py::test_stack[float_nan_data-col_index-idx_multi]\n",
      "     modin/pandas/test/dataframe/test_default.py::test_stack[float_nan_data-col_index-idx_index]\n",
      "     modin/pandas/test/dataframe/test_default.py::test_unstack[float_nan_data-col_index-idx_multi]\n",
      "     modin/pandas/test/dataframe/test_default.py::test_unstack[float_nan_data-col_index-idx_index]\n",
      "     modin/pandas/test/dataframe/test_indexing.py::test_asof_large[col2-lookup0]\n",
      "And also in 297 tests.\n",
      "-----------------------------------------------------------------------\n",
      "\n",
      "\n"
     ]
    }
   ],
   "source": [
    "pop.print_top_most_frequent_errors(res_dict, number_line, 5)"
   ]
  },
  {
   "cell_type": "code",
   "execution_count": null,
   "id": "e6d4c62f",
   "metadata": {},
   "outputs": [],
   "source": []
  }
 ],
 "metadata": {
  "kernelspec": {
   "display_name": "Python 3",
   "language": "python",
   "name": "python3"
  },
  "language_info": {
   "codemirror_mode": {
    "name": "ipython",
    "version": 3
   },
   "file_extension": ".py",
   "mimetype": "text/x-python",
   "name": "python",
   "nbconvert_exporter": "python",
   "pygments_lexer": "ipython3",
   "version": "3.8.11"
  }
 },
 "nbformat": 4,
 "nbformat_minor": 5
}
