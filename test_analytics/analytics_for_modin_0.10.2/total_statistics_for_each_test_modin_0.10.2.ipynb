{
 "cells": [
  {
   "cell_type": "markdown",
   "id": "46847bf9",
   "metadata": {},
   "source": [
    "# We will output the grouping by errors for the specified tests"
   ]
  },
  {
   "cell_type": "markdown",
   "id": "d3ab4713",
   "metadata": {},
   "source": [
    "Specify the folder from where you want to import json for analysis"
   ]
  },
  {
   "cell_type": "code",
   "execution_count": 1,
   "id": "fb2e7318",
   "metadata": {},
   "outputs": [],
   "source": [
    "path_dir = 'json_analytics_from_test\\\\analytics_modin_0.10.2'"
   ]
  },
  {
   "cell_type": "markdown",
   "id": "16771945",
   "metadata": {},
   "source": [
    "Specify the number of the last lines for which to merge errors"
   ]
  },
  {
   "cell_type": "code",
   "execution_count": 2,
   "id": "628e168f",
   "metadata": {},
   "outputs": [],
   "source": [
    "number_line = 9"
   ]
  },
  {
   "cell_type": "markdown",
   "id": "9cba3dbb",
   "metadata": {},
   "source": [
    "The following block is needed to import the module from the parent folder"
   ]
  },
  {
   "cell_type": "code",
   "execution_count": 3,
   "id": "67f0d6dd",
   "metadata": {},
   "outputs": [],
   "source": [
    "import os\n",
    "import sys\n",
    "import inspect\n",
    "\n",
    "currentdir = os.path.dirname(os.path.abspath(inspect.getfile(inspect.currentframe())))\n",
    "parentdir = os.path.dirname(currentdir)\n",
    "sys.path.insert(0, parentdir) "
   ]
  },
  {
   "cell_type": "code",
   "execution_count": 4,
   "id": "9d148d93",
   "metadata": {},
   "outputs": [],
   "source": [
    "from ParseOutputPytest import ParseOutputPytest\n",
    "pop = ParseOutputPytest()\n",
    "\n",
    "# Get a list of tests in the folder\n",
    "import os\n",
    "list_files = tuple(os.walk(path_dir))[0][2]"
   ]
  },
  {
   "cell_type": "code",
   "execution_count": 5,
   "id": "7f7aa8da",
   "metadata": {},
   "outputs": [
    {
     "name": "stdout",
     "output_type": "stream",
     "text": [
      "27-8-2021_19-57-57_modin_pandas_test_dataframe_test_binary.json\n",
      "  Total errors:   125\n",
      "  Unique errors:  12\n",
      "\n",
      "27-8-2021_20-53-7_modin_pandas_test_dataframe_test_default.json\n",
      "  Total errors:   386\n",
      "  Unique errors:  33\n",
      "\n",
      "28-8-2021_0-2-33_modin_pandas_test_dataframe_test_indexing.json\n",
      "  Total errors:   1680\n",
      "  Unique errors:  20\n",
      "\n",
      "28-8-2021_10-1-49_modin_pandas_test_dataframe_test_join_sort.json\n",
      "  Total errors:   3803\n",
      "  Unique errors:  3\n",
      "\n",
      "28-8-2021_9-51-44_modin_pandas_test_dataframe_test_iter.json\n",
      "  Total errors:   16\n",
      "  Unique errors:  6\n",
      "\n",
      "29-8-2021_0-47-5_modin_pandas_test_dataframe_test_map_metadata.json\n",
      "  Total errors:   146\n",
      "  Unique errors:  25\n",
      "\n",
      "29-8-2021_12-37-16_modin_pandas_test_dataframe_test_pickle.json\n",
      "  Total errors:   0\n",
      "  Unique errors:  0\n",
      "\n",
      "29-8-2021_12-37-31_modin_pandas_test_test_series.json\n",
      "  Total errors:   1228\n",
      "  Unique errors:  117\n",
      "\n",
      "29-8-2021_13-37-19_modin_pandas_test_test_rolling.json\n",
      "  Total errors:   42\n",
      "  Unique errors:  4\n",
      "\n",
      "29-8-2021_13-51-55_modin_pandas_test_test_concat.json\n",
      "  Total errors:   24\n",
      "  Unique errors:  6\n",
      "\n",
      "29-8-2021_13-52-33_modin_pandas_test_test_groupby.json\n",
      "  Total errors:   155\n",
      "  Unique errors:  10\n",
      "\n",
      "29-8-2021_14-20-25_modin_pandas_test_test_general.json\n",
      "  Total errors:   13\n",
      "  Unique errors:  7\n",
      "\n",
      "29-8-2021_14-20-7_modin_pandas_test_test_reshape.json\n",
      "  Total errors:   5\n",
      "  Unique errors:  5\n",
      "\n",
      "29-8-2021_14-28-49_modin_pandas_test_test_io.json\n",
      "  Total errors:   0\n",
      "  Unique errors:  0\n",
      "\n",
      "29-8-2021_3-38-9_modin_pandas_test_dataframe_test_reduction.json\n",
      "  Total errors:   323\n",
      "  Unique errors:  24\n",
      "\n",
      "29-8-2021_8-27-34_modin_pandas_test_dataframe_test_udf.json\n",
      "  Total errors:   141\n",
      "  Unique errors:  15\n",
      "\n",
      "29-8-2021_9-34-28_modin_pandas_test_dataframe_test_window.json\n",
      "  Total errors:   236\n",
      "  Unique errors:  17\n",
      "\n"
     ]
    }
   ],
   "source": [
    "for name_file_test in list_files:\n",
    "    new_dict = pop.get_dict_name_with_error_text(f'{path_dir}\\\\{name_file_test}')\n",
    "    new_dict_group = pop.get_dict_error_with_list_test(new_dict, number_line)\n",
    "    \n",
    "    print(name_file_test)\n",
    "    print(\"  Total errors:  \", len(new_dict))\n",
    "    print(\"  Unique errors: \", len(new_dict_group))\n",
    "    print(\"\")"
   ]
  },
  {
   "cell_type": "code",
   "execution_count": null,
   "id": "7641c67c",
   "metadata": {},
   "outputs": [],
   "source": []
  }
 ],
 "metadata": {
  "kernelspec": {
   "display_name": "Python 3",
   "language": "python",
   "name": "python3"
  },
  "language_info": {
   "codemirror_mode": {
    "name": "ipython",
    "version": 3
   },
   "file_extension": ".py",
   "mimetype": "text/x-python",
   "name": "python",
   "nbconvert_exporter": "python",
   "pygments_lexer": "ipython3",
   "version": "3.8.11"
  }
 },
 "nbformat": 4,
 "nbformat_minor": 5
}
