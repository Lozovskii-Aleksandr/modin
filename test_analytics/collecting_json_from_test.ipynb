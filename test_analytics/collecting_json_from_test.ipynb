{
 "cells": [
  {
   "cell_type": "markdown",
   "id": "abe42a1a",
   "metadata": {},
   "source": [
    "# Получение json для тестов"
   ]
  },
  {
   "cell_type": "raw",
   "id": "c4dda719",
   "metadata": {},
   "source": [
    "Укажите параметры ниже для скачивания json:"
   ]
  },
  {
   "cell_type": "code",
   "execution_count": 5,
   "id": "0a13722b",
   "metadata": {},
   "outputs": [],
   "source": [
    "environment_variables = 'set MODIN_EXPERIMENTAL=1 && set MODIN_ENGINE=Python'\n",
    "args_pytest = '--simulate-cloud=normal'\n",
    "path_dir = 'C:\\\\prog\\\\modin'\n",
    "path_to_save = 'test_analytics\\\\analytics_for_modin_0.12.1_2_fix_getattribute\\\\json_analytics_from_test'"
   ]
  },
  {
   "cell_type": "code",
   "execution_count": 9,
   "id": "19715c87",
   "metadata": {},
   "outputs": [],
   "source": [
    "list_file_test = [\n",
    "#                   'modin/pandas/test/dataframe/test_binary.py', \n",
    "#                   'modin/pandas/test/dataframe/test_default.py',\n",
    "#                   'modin/pandas/test/dataframe/test_indexing.py',\n",
    "#                   'modin/pandas/test/dataframe/test_iter.py',\n",
    "#                   'modin/pandas/test/dataframe/test_join_sort.py',\n",
    "#                   'modin/pandas/test/dataframe/test_map_metadata.py',\n",
    "                  'modin/pandas/test/dataframe/test_reduce.py',\n",
    "                  'modin/pandas/test/dataframe/test_udf.py',\n",
    "                  'modin/pandas/test/dataframe/test_window.py',\n",
    "                  'modin/pandas/test/dataframe/test_pickle.py',\n",
    "                  'modin/pandas/test/test_series.py',\n",
    "                  'modin/pandas/test/test_rolling.py',\n",
    "                  'modin/pandas/test/test_concat.py',\n",
    "                  'modin/pandas/test/test_groupby.py',\n",
    "                  'modin/pandas/test/test_reshape.py',\n",
    "                  'modin/pandas/test/test_general.py',\n",
    "                  'modin/pandas/test/test_io.py'\n",
    "                 ]"
   ]
  },
  {
   "cell_type": "code",
   "execution_count": 10,
   "id": "09711a5f",
   "metadata": {},
   "outputs": [],
   "source": [
    "from ParseOutputPytest import ParseOutputPytest\n",
    "import json\n",
    "\n",
    "pop = ParseOutputPytest()"
   ]
  },
  {
   "cell_type": "code",
   "execution_count": 11,
   "id": "4181617c",
   "metadata": {
    "scrolled": true
   },
   "outputs": [
    {
     "name": "stdout",
     "output_type": "stream",
     "text": [
      "Run testing -> modin/pandas/test/dataframe/test_reduce.py \n",
      "\n",
      "Execute the command:\n",
      "set MODIN_EXPERIMENTAL=1 && set MODIN_ENGINE=Python && python -m pytest --simulate-cloud=normal --tb=short --json=test_analytics\\analytics_for_modin_0.12.1_2_fix_getattribute\\json_analytics_from_test\\24-1-2022_23-31-12_modin_pandas_test_dataframe_test_reduce.json modin/pandas/test/dataframe/test_reduce.py\n",
      "\n",
      "The statistics for the test are saved in a file:\n",
      "C:\\prog\\modin\\test_analytics\\analytics_for_modin_0.12.1_2_fix_getattribute\\json_analytics_from_test\\24-1-2022_23-31-12_modin_pandas_test_dataframe_test_reduce.json\n",
      "\n",
      "---------------- \n",
      "\n",
      "Run testing -> modin/pandas/test/dataframe/test_udf.py \n",
      "\n",
      "Execute the command:\n",
      "set MODIN_EXPERIMENTAL=1 && set MODIN_ENGINE=Python && python -m pytest --simulate-cloud=normal --tb=short --json=test_analytics\\analytics_for_modin_0.12.1_2_fix_getattribute\\json_analytics_from_test\\24-1-2022_23-33-40_modin_pandas_test_dataframe_test_udf.json modin/pandas/test/dataframe/test_udf.py\n",
      "\n",
      "The statistics for the test are saved in a file:\n",
      "C:\\prog\\modin\\test_analytics\\analytics_for_modin_0.12.1_2_fix_getattribute\\json_analytics_from_test\\24-1-2022_23-33-40_modin_pandas_test_dataframe_test_udf.json\n",
      "\n",
      "---------------- \n",
      "\n",
      "Run testing -> modin/pandas/test/dataframe/test_window.py \n",
      "\n",
      "Execute the command:\n",
      "set MODIN_EXPERIMENTAL=1 && set MODIN_ENGINE=Python && python -m pytest --simulate-cloud=normal --tb=short --json=test_analytics\\analytics_for_modin_0.12.1_2_fix_getattribute\\json_analytics_from_test\\24-1-2022_23-37-34_modin_pandas_test_dataframe_test_window.json modin/pandas/test/dataframe/test_window.py\n",
      "\n",
      "The statistics for the test are saved in a file:\n",
      "C:\\prog\\modin\\test_analytics\\analytics_for_modin_0.12.1_2_fix_getattribute\\json_analytics_from_test\\24-1-2022_23-37-34_modin_pandas_test_dataframe_test_window.json\n",
      "\n",
      "---------------- \n",
      "\n",
      "Run testing -> modin/pandas/test/dataframe/test_pickle.py \n",
      "\n",
      "Execute the command:\n",
      "set MODIN_EXPERIMENTAL=1 && set MODIN_ENGINE=Python && python -m pytest --simulate-cloud=normal --tb=short --json=test_analytics\\analytics_for_modin_0.12.1_2_fix_getattribute\\json_analytics_from_test\\24-1-2022_23-38-48_modin_pandas_test_dataframe_test_pickle.json modin/pandas/test/dataframe/test_pickle.py\n",
      "\n",
      "The statistics for the test are saved in a file:\n",
      "C:\\prog\\modin\\test_analytics\\analytics_for_modin_0.12.1_2_fix_getattribute\\json_analytics_from_test\\24-1-2022_23-38-48_modin_pandas_test_dataframe_test_pickle.json\n",
      "\n",
      "---------------- \n",
      "\n",
      "Run testing -> modin/pandas/test/test_series.py \n",
      "\n",
      "Execute the command:\n",
      "set MODIN_EXPERIMENTAL=1 && set MODIN_ENGINE=Python && python -m pytest --simulate-cloud=normal --tb=short --json=test_analytics\\analytics_for_modin_0.12.1_2_fix_getattribute\\json_analytics_from_test\\24-1-2022_23-39-1_modin_pandas_test_test_series.json modin/pandas/test/test_series.py\n",
      "\n",
      "The statistics for the test are saved in a file:\n",
      "C:\\prog\\modin\\test_analytics\\analytics_for_modin_0.12.1_2_fix_getattribute\\json_analytics_from_test\\24-1-2022_23-39-1_modin_pandas_test_test_series.json\n",
      "\n",
      "---------------- \n",
      "\n",
      "Run testing -> modin/pandas/test/test_rolling.py \n",
      "\n",
      "Execute the command:\n",
      "set MODIN_EXPERIMENTAL=1 && set MODIN_ENGINE=Python && python -m pytest --simulate-cloud=normal --tb=short --json=test_analytics\\analytics_for_modin_0.12.1_2_fix_getattribute\\json_analytics_from_test\\25-1-2022_0-29-29_modin_pandas_test_test_rolling.json modin/pandas/test/test_rolling.py\n",
      "\n",
      "The statistics for the test are saved in a file:\n",
      "C:\\prog\\modin\\test_analytics\\analytics_for_modin_0.12.1_2_fix_getattribute\\json_analytics_from_test\\25-1-2022_0-29-29_modin_pandas_test_test_rolling.json\n",
      "\n",
      "---------------- \n",
      "\n",
      "Run testing -> modin/pandas/test/test_concat.py \n",
      "\n",
      "Execute the command:\n",
      "set MODIN_EXPERIMENTAL=1 && set MODIN_ENGINE=Python && python -m pytest --simulate-cloud=normal --tb=short --json=test_analytics\\analytics_for_modin_0.12.1_2_fix_getattribute\\json_analytics_from_test\\25-1-2022_0-41-16_modin_pandas_test_test_concat.json modin/pandas/test/test_concat.py\n",
      "\n",
      "The statistics for the test are saved in a file:\n",
      "C:\\prog\\modin\\test_analytics\\analytics_for_modin_0.12.1_2_fix_getattribute\\json_analytics_from_test\\25-1-2022_0-41-16_modin_pandas_test_test_concat.json\n",
      "\n",
      "---------------- \n",
      "\n",
      "Run testing -> modin/pandas/test/test_groupby.py \n",
      "\n",
      "Execute the command:\n",
      "set MODIN_EXPERIMENTAL=1 && set MODIN_ENGINE=Python && python -m pytest --simulate-cloud=normal --tb=short --json=test_analytics\\analytics_for_modin_0.12.1_2_fix_getattribute\\json_analytics_from_test\\25-1-2022_0-41-48_modin_pandas_test_test_groupby.json modin/pandas/test/test_groupby.py\n",
      "\n",
      "The statistics for the test are saved in a file:\n",
      "C:\\prog\\modin\\test_analytics\\analytics_for_modin_0.12.1_2_fix_getattribute\\json_analytics_from_test\\25-1-2022_0-41-48_modin_pandas_test_test_groupby.json\n",
      "\n",
      "---------------- \n",
      "\n",
      "Run testing -> modin/pandas/test/test_reshape.py \n",
      "\n",
      "Execute the command:\n",
      "set MODIN_EXPERIMENTAL=1 && set MODIN_ENGINE=Python && python -m pytest --simulate-cloud=normal --tb=short --json=test_analytics\\analytics_for_modin_0.12.1_2_fix_getattribute\\json_analytics_from_test\\25-1-2022_0-44-37_modin_pandas_test_test_reshape.json modin/pandas/test/test_reshape.py\n",
      "\n",
      "The statistics for the test are saved in a file:\n",
      "C:\\prog\\modin\\test_analytics\\analytics_for_modin_0.12.1_2_fix_getattribute\\json_analytics_from_test\\25-1-2022_0-44-37_modin_pandas_test_test_reshape.json\n",
      "\n",
      "---------------- \n",
      "\n",
      "Run testing -> modin/pandas/test/test_general.py \n",
      "\n",
      "Execute the command:\n",
      "set MODIN_EXPERIMENTAL=1 && set MODIN_ENGINE=Python && python -m pytest --simulate-cloud=normal --tb=short --json=test_analytics\\analytics_for_modin_0.12.1_2_fix_getattribute\\json_analytics_from_test\\25-1-2022_0-44-51_modin_pandas_test_test_general.json modin/pandas/test/test_general.py\n",
      "\n",
      "The statistics for the test are saved in a file:\n",
      "C:\\prog\\modin\\test_analytics\\analytics_for_modin_0.12.1_2_fix_getattribute\\json_analytics_from_test\\25-1-2022_0-44-51_modin_pandas_test_test_general.json\n",
      "\n",
      "---------------- \n",
      "\n",
      "Run testing -> modin/pandas/test/test_io.py \n",
      "\n",
      "Execute the command:\n",
      "set MODIN_EXPERIMENTAL=1 && set MODIN_ENGINE=Python && python -m pytest --simulate-cloud=normal --tb=short --json=test_analytics\\analytics_for_modin_0.12.1_2_fix_getattribute\\json_analytics_from_test\\25-1-2022_0-45-14_modin_pandas_test_test_io.json modin/pandas/test/test_io.py\n",
      "\n",
      "The statistics for the test are saved in a file:\n",
      "C:\\prog\\modin\\test_analytics\\analytics_for_modin_0.12.1_2_fix_getattribute\\json_analytics_from_test\\25-1-2022_0-45-14_modin_pandas_test_test_io.json\n",
      "\n",
      "---------------- \n",
      "\n"
     ]
    }
   ],
   "source": [
    "for file_test in list_file_test:\n",
    "    pop.start_test(path_dir, file_test, environment_variables=environment_variables, \n",
    "                   args_pytest=args_pytest,\n",
    "                   path_dir_for_save=path_to_save)\n",
    "    print(f'---------------- \\n')"
   ]
  },
  {
   "cell_type": "code",
   "execution_count": null,
   "id": "76e5a155",
   "metadata": {},
   "outputs": [],
   "source": []
  }
 ],
 "metadata": {
  "kernelspec": {
   "display_name": "Python 3",
   "language": "python",
   "name": "python3"
  },
  "language_info": {
   "codemirror_mode": {
    "name": "ipython",
    "version": 3
   },
   "file_extension": ".py",
   "mimetype": "text/x-python",
   "name": "python",
   "nbconvert_exporter": "python",
   "pygments_lexer": "ipython3",
   "version": "3.8.11"
  }
 },
 "nbformat": 4,
 "nbformat_minor": 5
}
