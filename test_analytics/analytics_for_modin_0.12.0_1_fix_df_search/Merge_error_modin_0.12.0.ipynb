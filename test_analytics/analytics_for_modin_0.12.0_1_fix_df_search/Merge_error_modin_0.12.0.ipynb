{
 "cells": [
  {
   "cell_type": "markdown",
   "id": "29eb8332",
   "metadata": {},
   "source": [
    "# Merge the errors from different tests"
   ]
  },
  {
   "cell_type": "markdown",
   "id": "232524a8",
   "metadata": {},
   "source": [
    "Specify the folder from where you want to import json for analysis"
   ]
  },
  {
   "cell_type": "code",
   "execution_count": 1,
   "id": "1398615e",
   "metadata": {},
   "outputs": [],
   "source": [
    "path_dir = 'json_analytics_from_test'"
   ]
  },
  {
   "cell_type": "markdown",
   "id": "1edb55bc",
   "metadata": {},
   "source": [
    "Specify the number of the last lines for which to merge errors"
   ]
  },
  {
   "cell_type": "code",
   "execution_count": 2,
   "id": "55a90fd5",
   "metadata": {},
   "outputs": [],
   "source": [
    "number_line = 9"
   ]
  },
  {
   "cell_type": "markdown",
   "id": "335a6841",
   "metadata": {},
   "source": [
    "The following block is needed to import the module from the parent folder"
   ]
  },
  {
   "cell_type": "code",
   "execution_count": 3,
   "id": "f71277d7",
   "metadata": {},
   "outputs": [],
   "source": [
    "import os\n",
    "import sys\n",
    "import inspect\n",
    "\n",
    "currentdir = os.path.dirname(os.path.abspath(inspect.getfile(inspect.currentframe())))\n",
    "parentdir = os.path.dirname(currentdir)\n",
    "sys.path.insert(0, parentdir) "
   ]
  },
  {
   "cell_type": "code",
   "execution_count": 4,
   "id": "b954bd8e",
   "metadata": {},
   "outputs": [],
   "source": [
    "from ParseOutputPytest import ParseOutputPytest\n",
    "pop = ParseOutputPytest()"
   ]
  },
  {
   "cell_type": "code",
   "execution_count": 5,
   "id": "06c462e9",
   "metadata": {},
   "outputs": [],
   "source": [
    "# Get a list of tests in the folder\n",
    "import os\n",
    "list_files = tuple(os.walk(path_dir))[0][2]"
   ]
  },
  {
   "cell_type": "code",
   "execution_count": 6,
   "id": "5d6c4c20",
   "metadata": {},
   "outputs": [],
   "source": [
    "# Get for each file - dict\n",
    "list_dict = []\n",
    "for name_file_test in list_files:\n",
    "    new_dict = pop.get_dict_name_with_error_text(f'{path_dir}\\\\{name_file_test}')\n",
    "    list_dict.append(new_dict)\n",
    "\n",
    "# Merge dicts in one dict\n",
    "res_dict = {}\n",
    "for dict_for_test in list_dict:\n",
    "    res_dict.update(dict_for_test)\n",
    "    \n",
    "# Group the names by errors\n",
    "res_dict_group = pop.get_dict_error_with_list_test(res_dict, number_line)"
   ]
  },
  {
   "cell_type": "code",
   "execution_count": 7,
   "id": "e2f9865b",
   "metadata": {
    "scrolled": true
   },
   "outputs": [
    {
     "name": "stdout",
     "output_type": "stream",
     "text": [
      "Total errors:   1683\n",
      "Unique errors:  18\n"
     ]
    }
   ],
   "source": [
    "print(\"Total errors:  \", len(res_dict))\n",
    "print(\"Unique errors: \", len(res_dict_group))"
   ]
  },
  {
   "cell_type": "code",
   "execution_count": 8,
   "id": "4bfa1313",
   "metadata": {
    "scrolled": false
   },
   "outputs": [
    {
     "name": "stdout",
     "output_type": "stream",
     "text": [
      "-----------------------------------------------------------------------\n",
      "======= Remote Traceback =======\n",
      " ... \n",
      "E     File \"C:\\Users\\alozovsk\\Anaconda3\\envs\\modin\\lib\\site-packages\\rpyc\\core\\protocol.py\", line 338, in _dispatch_request\n",
      "E       res = self._HANDLERS[handler](self, *args)\n",
      "E     File \"C:\\Users\\alozovsk\\Anaconda3\\envs\\modin\\lib\\site-packages\\rpyc\\core\\protocol.py\", line 630, in _handle_call\n",
      "E       return obj(*args, **dict(kwargs))\n",
      "E     File \"C:\\prog\\modin\\modin\\experimental\\cloud\\rpyc_proxy.py\", line 34, in _batch_loads\n",
      "E       return tuple(pickle.loads(item) for item in items)\n",
      "E     File \"C:\\prog\\modin\\modin\\experimental\\cloud\\rpyc_proxy.py\", line 34, in <genexpr>\n",
      "E       return tuple(pickle.loads(item) for item in items)\n",
      "E   AttributeError: type object '_DTypeMeta' has no attribute '_abstract' \n",
      "\n",
      "Occurs in 1605 tests.\n",
      "     modin/pandas/test/dataframe/test_indexing.py::test_loc_nested_assignment[float_nan_data]\n",
      "     modin/pandas/test/dataframe/test_indexing.py::test_iloc_nested_assignment[float_nan_data]\n",
      "     modin/pandas/test/dataframe/test_indexing.py::test_pop[float_nan_data]\n",
      "     modin/pandas/test/dataframe/test_indexing.py::test_reset_index[float_nan_data]\n",
      "     modin/pandas/test/dataframe/test_indexing.py::test_reset_index_with_multi_index_no_drop[True-0-False-no_col_fill-no_col_level-no_level-True-3-float_nan_data]\n",
      "And also in 1600 tests.\n",
      "-----------------------------------------------------------------------\n",
      "\n",
      "\n",
      "-----------------------------------------------------------------------\n",
      "======= Remote Traceback =======\n",
      " ... \n",
      "E     File \"C:\\Users\\alozovsk\\Anaconda3\\envs\\modin\\lib\\site-packages\\rpyc\\core\\protocol.py\", line 338, in _dispatch_request\n",
      "E       res = self._HANDLERS[handler](self, *args)\n",
      "E     File \"C:\\Users\\alozovsk\\Anaconda3\\envs\\modin\\lib\\site-packages\\rpyc\\core\\protocol.py\", line 630, in _handle_call\n",
      "E       return obj(*args, **dict(kwargs))\n",
      "E     File \"C:\\prog\\modin\\modin\\experimental\\cloud\\rpyc_proxy.py\", line 34, in _batch_loads\n",
      "E       return tuple(pickle.loads(item) for item in items)\n",
      "E     File \"C:\\prog\\modin\\modin\\experimental\\cloud\\rpyc_proxy.py\", line 34, in <genexpr>\n",
      "E       return tuple(pickle.loads(item) for item in items)\n",
      "E   AttributeError: type object 'ndarray' has no attribute '__iter__' \n",
      "\n",
      "Occurs in 32 tests.\n",
      "     modin/pandas/test/dataframe/test_indexing.py::test_loc_multi_index\n",
      "     modin/pandas/test/dataframe/test_indexing.py::test_loc_nested_assignment[int_data]\n",
      "     modin/pandas/test/dataframe/test_indexing.py::test_iloc_nested_assignment[int_data]\n",
      "     modin/pandas/test/dataframe/test_indexing.py::test_pop[int_data]\n",
      "     modin/pandas/test/dataframe/test_indexing.py::test_rename_sanity\n",
      "And also in 27 tests.\n",
      "-----------------------------------------------------------------------\n",
      "\n",
      "\n",
      "-----------------------------------------------------------------------\n",
      "======= Remote Traceback =======\n",
      " ... \n",
      "E     File \"C:\\Users\\alozovsk\\Anaconda3\\envs\\modin\\lib\\site-packages\\pandas\\core\\indexes\\base.py\", line 3437, in get_indexer\n",
      "E       target = self._maybe_cast_listlike_indexer(target)\n",
      "E     File \"C:\\Users\\alozovsk\\Anaconda3\\envs\\modin\\lib\\site-packages\\pandas\\core\\indexes\\datetimelike.py\", line 604, in _maybe_cast_listlike_indexer\n",
      "E       return Index(res, dtype=res.dtype)\n",
      "E     File \"C:\\Users\\alozovsk\\Anaconda3\\envs\\modin\\lib\\site-packages\\pandas\\core\\indexes\\base.py\", line 394, in __new__\n",
      "E       dtype = pandas_dtype(dtype)\n",
      "E     File \"C:\\Users\\alozovsk\\Anaconda3\\envs\\modin\\lib\\site-packages\\pandas\\core\\dtypes\\common.py\", line 1776, in pandas_dtype\n",
      "E       npdtype = np.dtype(dtype)\n",
      "E   TypeError: Cannot interpret 'dtype('O')' as a data type \n",
      "\n",
      "Occurs in 12 tests.\n",
      "     modin/pandas/test/dataframe/test_indexing.py::test_asof_with_nan[a-dates0]\n",
      "     modin/pandas/test/dataframe/test_indexing.py::test_asof_with_nan[a-dates1]\n",
      "     modin/pandas/test/dataframe/test_indexing.py::test_asof_with_nan[b-dates0]\n",
      "     modin/pandas/test/dataframe/test_indexing.py::test_asof_with_nan[b-dates1]\n",
      "     modin/pandas/test/dataframe/test_indexing.py::test_asof_with_nan[None-dates0]\n",
      "And also in 7 tests.\n",
      "-----------------------------------------------------------------------\n",
      "\n",
      "\n",
      "-----------------------------------------------------------------------\n",
      "======= Remote Traceback =======\n",
      " ... \n",
      "E     File \"C:\\prog\\modin\\modin\\pandas\\base.py\", line 458, in _default_to_pandas\n",
      "E       kwargs = try_cast_to_pandas(kwargs)\n",
      "E     File \"C:\\prog\\modin\\modin\\utils.py\", line 439, in try_cast_to_pandas\n",
      "E       return {k: try_cast_to_pandas(v, squeeze=squeeze) for k, v in obj.items()}\n",
      "E     File \"C:\\prog\\modin\\modin\\utils.py\", line 439, in <dictcomp>\n",
      "E       return {k: try_cast_to_pandas(v, squeeze=squeeze) for k, v in obj.items()}\n",
      "E     File \"C:\\prog\\modin\\modin\\utils.py\", line 437, in try_cast_to_pandas\n",
      "E       return type(obj)([try_cast_to_pandas(o, squeeze=squeeze) for o in obj])\n",
      "E   TypeError: __init__() missing 1 required positional argument: 'id_pack' \n",
      "\n",
      "Occurs in 8 tests.\n",
      "     modin/pandas/test/dataframe/test_indexing.py::test_setitem_on_empty_df[integer-False-2_length_val-empty_frame]\n",
      "     modin/pandas/test/dataframe/test_indexing.py::test_setitem_on_empty_df[integer-False-2_length_val-empty_cols]\n",
      "     modin/pandas/test/dataframe/test_indexing.py::test_setitem_on_empty_df[integer-False-3_length_val-empty_frame]\n",
      "     modin/pandas/test/dataframe/test_indexing.py::test_setitem_on_empty_df[integer-False-3_length_val-empty_cols]\n",
      "     modin/pandas/test/dataframe/test_indexing.py::test_setitem_on_empty_df[string-False-2_length_val-empty_frame]\n",
      "And also in 3 tests.\n",
      "-----------------------------------------------------------------------\n",
      "\n",
      "\n",
      "-----------------------------------------------------------------------\n",
      "E   _get_exception_class.<locals>.Derived: 'list' object is not callable\n",
      "E   \n",
      "E   ========= Remote Traceback (1) =========\n",
      "E   Traceback (most recent call last):\n",
      "E     File \"C:\\Users\\alozovsk\\Anaconda3\\envs\\modin\\lib\\site-packages\\rpyc\\core\\protocol.py\", line 338, in _dispatch_request\n",
      "E       res = self._HANDLERS[handler](self, *args)\n",
      "E     File \"C:\\Users\\alozovsk\\Anaconda3\\envs\\modin\\lib\\site-packages\\rpyc\\core\\protocol.py\", line 630, in _handle_call\n",
      "E       return obj(*args, **dict(kwargs))\n",
      "E   TypeError: 'list' object is not callable \n",
      "\n",
      "Occurs in 7 tests.\n",
      "     modin/pandas/test/dataframe/test_indexing.py::test_asof_with_nan[subset2-dates0]\n",
      "     modin/pandas/test/dataframe/test_indexing.py::test_asof_with_nan[subset2-dates1]\n",
      "     modin/pandas/test/dataframe/test_indexing.py::test_asof_without_nan[subset2-dates0]\n",
      "     modin/pandas/test/dataframe/test_indexing.py::test_asof_without_nan[subset2-dates1]\n",
      "     modin/pandas/test/dataframe/test_indexing.py::test_asof_large[subset2-lookup0]\n",
      "And also in 2 tests.\n",
      "-----------------------------------------------------------------------\n",
      "\n",
      "\n",
      "-----------------------------------------------------------------------\n",
      "======= Remote Traceback =======\n",
      " ... \n",
      "E     File \"C:\\Users\\alozovsk\\Anaconda3\\envs\\modin\\lib\\site-packages\\rpyc\\core\\protocol.py\", line 338, in _dispatch_request\n",
      "E       res = self._HANDLERS[handler](self, *args)\n",
      "E     File \"C:\\Users\\alozovsk\\Anaconda3\\envs\\modin\\lib\\site-packages\\rpyc\\core\\protocol.py\", line 656, in _handle_callattr\n",
      "E       return self._handle_call(obj, args, kwargs)\n",
      "E     File \"C:\\Users\\alozovsk\\Anaconda3\\envs\\modin\\lib\\site-packages\\rpyc\\core\\protocol.py\", line 630, in _handle_call\n",
      "E       return obj(*args, **dict(kwargs))\n",
      "E     File \"C:\\Users\\alozovsk\\Anaconda3\\envs\\modin\\lib\\site-packages\\pandas\\core\\indexes\\base.py\", line 4609, in __getitem__\n",
      "E       result = getitem(key)\n",
      "E   IndexError: only integers, slices (`:`), ellipsis (`...`), numpy.newaxis (`None`) and integer or boolean arrays are valid indices \n",
      "\n",
      "Occurs in 6 tests.\n",
      "     modin/pandas/test/dataframe/test_indexing.py::test_asof_large[col2-lookup0]\n",
      "     modin/pandas/test/dataframe/test_indexing.py::test_asof_large[col2-lookup1]\n",
      "     modin/pandas/test/dataframe/test_indexing.py::test_asof_large[col1-lookup0]\n",
      "     modin/pandas/test/dataframe/test_indexing.py::test_asof_large[col1-lookup1]\n",
      "     modin/pandas/test/dataframe/test_indexing.py::test_asof_large[None-lookup0]\n",
      "And also in 1 tests.\n",
      "-----------------------------------------------------------------------\n",
      "\n",
      "\n",
      "-----------------------------------------------------------------------\n",
      "======= Remote Traceback =======\n",
      " ... \n",
      "E     File \"C:\\Users\\alozovsk\\Anaconda3\\envs\\modin\\lib\\site-packages\\rpyc\\core\\brine.py\", line 194, in _dump\n",
      "E       _dump_registry.get(type(obj), _undumpable)(obj, stream)\n",
      "E     File \"C:\\Users\\alozovsk\\Anaconda3\\envs\\modin\\lib\\site-packages\\rpyc\\core\\brine.py\", line 186, in _dump_tuple\n",
      "E       _dump(item, stream)\n",
      "E     File \"C:\\Users\\alozovsk\\Anaconda3\\envs\\modin\\lib\\site-packages\\rpyc\\core\\brine.py\", line 194, in _dump\n",
      "E       _dump_registry.get(type(obj), _undumpable)(obj, stream)\n",
      "E     File \"C:\\Users\\alozovsk\\Anaconda3\\envs\\modin\\lib\\site-packages\\rpyc\\core\\brine.py\", line 157, in _dump_str\n",
      "E       stream.append(TAG_UNICODE)\n",
      "E   RecursionError: maximum recursion depth exceeded while calling a Python object \n",
      "\n",
      "Occurs in 2 tests.\n",
      "     modin/pandas/test/dataframe/test_indexing.py::test_head[n_0-int_data]\n",
      "     modin/pandas/test/dataframe/test_indexing.py::test_head[n_0-float_nan_data]\n",
      "-----------------------------------------------------------------------\n",
      "\n",
      "\n",
      "-----------------------------------------------------------------------\n",
      "modin\\pandas\\test\\dataframe\\test_indexing.py:185: in test_iloc\n",
      "    np.testing.assert_equal(modin_df.iloc[0, 1], pandas_df.iloc[0, 1])\n",
      "E   AssertionError: \n",
      "E   Items are not equal:\n",
      "E    ACTUAL: 79\n",
      "E    DESIRED: 79 \n",
      "\n",
      "Occurs in 1 tests.\n",
      "     modin/pandas/test/dataframe/test_indexing.py::test_iloc[int_data]\n",
      "-----------------------------------------------------------------------\n",
      "\n",
      "\n",
      "-----------------------------------------------------------------------\n",
      "modin\\pandas\\test\\dataframe\\test_indexing.py:185: in test_iloc\n",
      "    np.testing.assert_equal(modin_df.iloc[0, 1], pandas_df.iloc[0, 1])\n",
      "E   AssertionError: \n",
      "E   Items are not equal:\n",
      "E    ACTUAL: nan\n",
      "E    DESIRED: nan \n",
      "\n",
      "Occurs in 1 tests.\n",
      "     modin/pandas/test/dataframe/test_indexing.py::test_iloc[float_nan_data]\n",
      "-----------------------------------------------------------------------\n",
      "\n",
      "\n",
      "-----------------------------------------------------------------------\n",
      "modin\\pandas\\test\\dataframe\\test_indexing.py:294: in test_loc\n",
      "    df_equals(modin_df.loc[0, key1], pandas_df.loc[0, key1])\n",
      "modin\\pandas\\test\\utils.py:576: in df_equals\n",
      "    np.testing.assert_almost_equal(df1, df2)\n",
      "C:\\Users\\alozovsk\\Anaconda3\\envs\\modin\\lib\\site-packages\\numpy\\testing\\_private\\utils.py:129: in gisfinite\n",
      "    st = isfinite(x)\n",
      "E   ValueError: object __array__ method not producing an array \n",
      "\n",
      "Occurs in 1 tests.\n",
      "     modin/pandas/test/dataframe/test_indexing.py::test_loc[int_data]\n",
      "-----------------------------------------------------------------------\n",
      "\n",
      "\n"
     ]
    }
   ],
   "source": [
    "pop.print_top_most_frequent_errors(res_dict, number_line, 10)"
   ]
  }
 ],
 "metadata": {
  "kernelspec": {
   "display_name": "Python 3",
   "language": "python",
   "name": "python3"
  },
  "language_info": {
   "codemirror_mode": {
    "name": "ipython",
    "version": 3
   },
   "file_extension": ".py",
   "mimetype": "text/x-python",
   "name": "python",
   "nbconvert_exporter": "python",
   "pygments_lexer": "ipython3",
   "version": "3.8.11"
  }
 },
 "nbformat": 4,
 "nbformat_minor": 5
}
