{
 "cells": [
  {
   "cell_type": "markdown",
   "id": "abe42a1a",
   "metadata": {},
   "source": [
    "# Получение json для тестов"
   ]
  },
  {
   "cell_type": "raw",
   "id": "c4dda719",
   "metadata": {},
   "source": [
    "Укажите параметры ниже для скачивания json:"
   ]
  },
  {
   "cell_type": "code",
   "execution_count": 2,
   "id": "0a13722b",
   "metadata": {},
   "outputs": [],
   "source": [
    "environment_variables = 'set MODIN_EXPERIMENTAL=1 && set MODIN_ENGINE=Python'\n",
    "args_pytest = '--simulate-cloud=normal'\n",
    "path_dir = 'C:\\\\prog\\\\modin'\n",
    "path_to_save = 'test_analytics\\\\analytics_for_modin_0.12.0_2_after_fix\\\\json_analytics_from_test'"
   ]
  },
  {
   "cell_type": "code",
   "execution_count": 3,
   "id": "19715c87",
   "metadata": {},
   "outputs": [],
   "source": [
    "list_file_test = [\n",
    "                  'modin/pandas/test/dataframe/test_binary.py', \n",
    "                  'modin/pandas/test/dataframe/test_default.py',\n",
    "                  'modin/pandas/test/dataframe/test_indexing.py',\n",
    "                  'modin/pandas/test/dataframe/test_iter.py',\n",
    "                  'modin/pandas/test/dataframe/test_join_sort.py',\n",
    "                  'modin/pandas/test/dataframe/test_map_metadata.py',\n",
    "                  'modin/pandas/test/dataframe/test_reduction.py',\n",
    "                  'modin/pandas/test/dataframe/test_udf.py',\n",
    "                  'modin/pandas/test/dataframe/test_window.py',\n",
    "                  'modin/pandas/test/dataframe/test_pickle.py',\n",
    "                  'modin/pandas/test/test_series.py',\n",
    "                  'modin/pandas/test/test_rolling.py',\n",
    "                  'modin/pandas/test/test_concat.py',\n",
    "                  'modin/pandas/test/test_groupby.py',\n",
    "                  'modin/pandas/test/test_reshape.py',\n",
    "                  'modin/pandas/test/test_general.py',\n",
    "                  'modin/pandas/test/test_io.py'\n",
    "                 ]"
   ]
  },
  {
   "cell_type": "code",
   "execution_count": 4,
   "id": "09711a5f",
   "metadata": {},
   "outputs": [],
   "source": [
    "from ParseOutputPytest import ParseOutputPytest\n",
    "import json\n",
    "from tqdm import tqdm\n",
    "\n",
    "pop = ParseOutputPytest()"
   ]
  },
  {
   "cell_type": "code",
   "execution_count": 6,
   "id": "4181617c",
   "metadata": {
    "scrolled": true
   },
   "outputs": [
    {
     "name": "stderr",
     "output_type": "stream",
     "text": [
      "\r",
      "  0%|                                                                                                                                                                              | 0/17 [00:00<?, ?it/s]"
     ]
    },
    {
     "name": "stdout",
     "output_type": "stream",
     "text": [
      "Run testing -> modin/pandas/test/dataframe/test_binary.py \n",
      "\n",
      "Execute the command:\n",
      "set MODIN_EXPERIMENTAL=1 && set MODIN_ENGINE=Python && python -m pytest --simulate-cloud=normal --tb=short --json=test_analytics\\analytics_for_modin_0.12.0_2_after_fix\\json_analytics_from_test\\16-12-2021_20-36-58_modin_pandas_test_dataframe_test_binary.json modin/pandas/test/dataframe/test_binary.py\n",
      "\n"
     ]
    },
    {
     "name": "stderr",
     "output_type": "stream",
     "text": [
      "\r",
      "  6%|█████████▊                                                                                                                                                            | 1/17 [00:48<12:55, 48.44s/it]"
     ]
    },
    {
     "name": "stdout",
     "output_type": "stream",
     "text": [
      "The statistics for the test are saved in a file:\n",
      "C:\\prog\\modin\\test_analytics\\analytics_for_modin_0.12.0_2_after_fix\\json_analytics_from_test\\16-12-2021_20-36-58_modin_pandas_test_dataframe_test_binary.json\n",
      "\n",
      "---------------- \n",
      "\n",
      "Run testing -> modin/pandas/test/dataframe/test_default.py \n",
      "\n",
      "Execute the command:\n",
      "set MODIN_EXPERIMENTAL=1 && set MODIN_ENGINE=Python && python -m pytest --simulate-cloud=normal --tb=short --json=test_analytics\\analytics_for_modin_0.12.0_2_after_fix\\json_analytics_from_test\\16-12-2021_20-37-46_modin_pandas_test_dataframe_test_default.json modin/pandas/test/dataframe/test_default.py\n",
      "\n"
     ]
    },
    {
     "name": "stderr",
     "output_type": "stream",
     "text": [
      "\r",
      " 12%|███████████████████▍                                                                                                                                                 | 2/17 [05:17<44:36, 178.44s/it]"
     ]
    },
    {
     "name": "stdout",
     "output_type": "stream",
     "text": [
      "The statistics for the test are saved in a file:\n",
      "C:\\prog\\modin\\test_analytics\\analytics_for_modin_0.12.0_2_after_fix\\json_analytics_from_test\\16-12-2021_20-37-46_modin_pandas_test_dataframe_test_default.json\n",
      "\n",
      "---------------- \n",
      "\n",
      "Run testing -> modin/pandas/test/dataframe/test_indexing.py \n",
      "\n",
      "Execute the command:\n",
      "set MODIN_EXPERIMENTAL=1 && set MODIN_ENGINE=Python && python -m pytest --simulate-cloud=normal --tb=short --json=test_analytics\\analytics_for_modin_0.12.0_2_after_fix\\json_analytics_from_test\\16-12-2021_20-42-16_modin_pandas_test_dataframe_test_indexing.json modin/pandas/test/dataframe/test_indexing.py\n",
      "\n"
     ]
    },
    {
     "name": "stderr",
     "output_type": "stream",
     "text": [
      "\r",
      " 18%|████████████████████████████▊                                                                                                                                      | 3/17 [26:01<2:35:08, 664.86s/it]"
     ]
    },
    {
     "name": "stdout",
     "output_type": "stream",
     "text": [
      "The statistics for the test are saved in a file:\n",
      "C:\\prog\\modin\\test_analytics\\analytics_for_modin_0.12.0_2_after_fix\\json_analytics_from_test\\16-12-2021_20-42-16_modin_pandas_test_dataframe_test_indexing.json\n",
      "\n",
      "---------------- \n",
      "\n",
      "Run testing -> modin/pandas/test/dataframe/test_iter.py \n",
      "\n",
      "Execute the command:\n",
      "set MODIN_EXPERIMENTAL=1 && set MODIN_ENGINE=Python && python -m pytest --simulate-cloud=normal --tb=short --json=test_analytics\\analytics_for_modin_0.12.0_2_after_fix\\json_analytics_from_test\\16-12-2021_21-2-59_modin_pandas_test_dataframe_test_iter.json modin/pandas/test/dataframe/test_iter.py\n",
      "\n"
     ]
    },
    {
     "name": "stderr",
     "output_type": "stream",
     "text": [
      "\r",
      " 24%|██████████████████████████████████████▎                                                                                                                            | 4/17 [26:21<1:28:51, 410.10s/it]"
     ]
    },
    {
     "name": "stdout",
     "output_type": "stream",
     "text": [
      "The statistics for the test are saved in a file:\n",
      "C:\\prog\\modin\\test_analytics\\analytics_for_modin_0.12.0_2_after_fix\\json_analytics_from_test\\16-12-2021_21-2-59_modin_pandas_test_dataframe_test_iter.json\n",
      "\n",
      "---------------- \n",
      "\n",
      "Run testing -> modin/pandas/test/dataframe/test_join_sort.py \n",
      "\n",
      "Execute the command:\n",
      "set MODIN_EXPERIMENTAL=1 && set MODIN_ENGINE=Python && python -m pytest --simulate-cloud=normal --tb=short --json=test_analytics\\analytics_for_modin_0.12.0_2_after_fix\\json_analytics_from_test\\16-12-2021_21-3-19_modin_pandas_test_dataframe_test_join_sort.json modin/pandas/test/dataframe/test_join_sort.py\n",
      "\n"
     ]
    },
    {
     "name": "stderr",
     "output_type": "stream",
     "text": [
      "\r",
      " 29%|███████████████████████████████████████████████▉                                                                                                                   | 5/17 [52:01<2:43:33, 817.77s/it]"
     ]
    },
    {
     "name": "stdout",
     "output_type": "stream",
     "text": [
      "The statistics for the test are saved in a file:\n",
      "C:\\prog\\modin\\test_analytics\\analytics_for_modin_0.12.0_2_after_fix\\json_analytics_from_test\\16-12-2021_21-3-19_modin_pandas_test_dataframe_test_join_sort.json\n",
      "\n",
      "---------------- \n",
      "\n",
      "Run testing -> modin/pandas/test/dataframe/test_map_metadata.py \n",
      "\n",
      "Execute the command:\n",
      "set MODIN_EXPERIMENTAL=1 && set MODIN_ENGINE=Python && python -m pytest --simulate-cloud=normal --tb=short --json=test_analytics\\analytics_for_modin_0.12.0_2_after_fix\\json_analytics_from_test\\16-12-2021_21-28-59_modin_pandas_test_dataframe_test_map_metadata.json modin/pandas/test/dataframe/test_map_metadata.py\n",
      "\n"
     ]
    },
    {
     "name": "stderr",
     "output_type": "stream",
     "text": [
      "\r",
      " 35%|█████████████████████████████████████████████████████████▌                                                                                                         | 6/17 [53:47<1:45:34, 575.83s/it]"
     ]
    },
    {
     "name": "stdout",
     "output_type": "stream",
     "text": [
      "The statistics for the test are saved in a file:\n",
      "C:\\prog\\modin\\test_analytics\\analytics_for_modin_0.12.0_2_after_fix\\json_analytics_from_test\\16-12-2021_21-28-59_modin_pandas_test_dataframe_test_map_metadata.json\n",
      "\n",
      "---------------- \n",
      "\n",
      "Run testing -> modin/pandas/test/dataframe/test_reduction.py \n",
      "\n",
      "Execute the command:\n",
      "set MODIN_EXPERIMENTAL=1 && set MODIN_ENGINE=Python && python -m pytest --simulate-cloud=normal --tb=short --json=test_analytics\\analytics_for_modin_0.12.0_2_after_fix\\json_analytics_from_test\\16-12-2021_21-30-46_modin_pandas_test_dataframe_test_reduction.json modin/pandas/test/dataframe/test_reduction.py\n",
      "\n"
     ]
    },
    {
     "name": "stderr",
     "output_type": "stream",
     "text": [
      "\r",
      " 41%|███████████████████████████████████████████████████████████████████                                                                                                | 7/17 [56:01<1:11:51, 431.19s/it]"
     ]
    },
    {
     "name": "stdout",
     "output_type": "stream",
     "text": [
      "The statistics for the test are saved in a file:\n",
      "C:\\prog\\modin\\test_analytics\\analytics_for_modin_0.12.0_2_after_fix\\json_analytics_from_test\\16-12-2021_21-30-46_modin_pandas_test_dataframe_test_reduction.json\n",
      "\n",
      "---------------- \n",
      "\n",
      "Run testing -> modin/pandas/test/dataframe/test_udf.py \n",
      "\n",
      "Execute the command:\n",
      "set MODIN_EXPERIMENTAL=1 && set MODIN_ENGINE=Python && python -m pytest --simulate-cloud=normal --tb=short --json=test_analytics\\analytics_for_modin_0.12.0_2_after_fix\\json_analytics_from_test\\16-12-2021_21-32-59_modin_pandas_test_dataframe_test_udf.json modin/pandas/test/dataframe/test_udf.py\n",
      "\n"
     ]
    },
    {
     "name": "stderr",
     "output_type": "stream",
     "text": [
      "\r",
      " 47%|█████████████████████████████████████████████████████████████████████████████▋                                                                                       | 8/17 [59:45<54:47, 365.26s/it]"
     ]
    },
    {
     "name": "stdout",
     "output_type": "stream",
     "text": [
      "The statistics for the test are saved in a file:\n",
      "C:\\prog\\modin\\test_analytics\\analytics_for_modin_0.12.0_2_after_fix\\json_analytics_from_test\\16-12-2021_21-32-59_modin_pandas_test_dataframe_test_udf.json\n",
      "\n",
      "---------------- \n",
      "\n",
      "Run testing -> modin/pandas/test/dataframe/test_window.py \n",
      "\n",
      "Execute the command:\n",
      "set MODIN_EXPERIMENTAL=1 && set MODIN_ENGINE=Python && python -m pytest --simulate-cloud=normal --tb=short --json=test_analytics\\analytics_for_modin_0.12.0_2_after_fix\\json_analytics_from_test\\16-12-2021_21-36-43_modin_pandas_test_dataframe_test_window.json modin/pandas/test/dataframe/test_window.py\n",
      "\n"
     ]
    },
    {
     "name": "stderr",
     "output_type": "stream",
     "text": [
      "\r",
      " 53%|██████████████████████████████████████████████████████████████████████████████████████▎                                                                            | 9/17 [1:00:56<36:27, 273.45s/it]"
     ]
    },
    {
     "name": "stdout",
     "output_type": "stream",
     "text": [
      "The statistics for the test are saved in a file:\n",
      "C:\\prog\\modin\\test_analytics\\analytics_for_modin_0.12.0_2_after_fix\\json_analytics_from_test\\16-12-2021_21-36-43_modin_pandas_test_dataframe_test_window.json\n",
      "\n",
      "---------------- \n",
      "\n",
      "Run testing -> modin/pandas/test/dataframe/test_pickle.py \n",
      "\n",
      "Execute the command:\n",
      "set MODIN_EXPERIMENTAL=1 && set MODIN_ENGINE=Python && python -m pytest --simulate-cloud=normal --tb=short --json=test_analytics\\analytics_for_modin_0.12.0_2_after_fix\\json_analytics_from_test\\16-12-2021_21-37-55_modin_pandas_test_dataframe_test_pickle.json modin/pandas/test/dataframe/test_pickle.py\n",
      "\n"
     ]
    },
    {
     "name": "stderr",
     "output_type": "stream",
     "text": [
      "\r",
      " 59%|███████████████████████████████████████████████████████████████████████████████████████████████▎                                                                  | 10/17 [1:01:09<22:31, 193.03s/it]"
     ]
    },
    {
     "name": "stdout",
     "output_type": "stream",
     "text": [
      "The statistics for the test are saved in a file:\n",
      "C:\\prog\\modin\\test_analytics\\analytics_for_modin_0.12.0_2_after_fix\\json_analytics_from_test\\16-12-2021_21-37-55_modin_pandas_test_dataframe_test_pickle.json\n",
      "\n",
      "---------------- \n",
      "\n",
      "Run testing -> modin/pandas/test/test_series.py \n",
      "\n",
      "Execute the command:\n",
      "set MODIN_EXPERIMENTAL=1 && set MODIN_ENGINE=Python && python -m pytest --simulate-cloud=normal --tb=short --json=test_analytics\\analytics_for_modin_0.12.0_2_after_fix\\json_analytics_from_test\\16-12-2021_21-38-8_modin_pandas_test_test_series.json modin/pandas/test/test_series.py\n",
      "\n"
     ]
    },
    {
     "name": "stderr",
     "output_type": "stream",
     "text": [
      "\r",
      " 65%|██████████████████████████████████████████████████████████████████████████████████████████████████████▉                                                        | 11/17 [1:51:00<1:44:54, 1049.12s/it]"
     ]
    },
    {
     "name": "stdout",
     "output_type": "stream",
     "text": [
      "The statistics for the test are saved in a file:\n",
      "C:\\prog\\modin\\test_analytics\\analytics_for_modin_0.12.0_2_after_fix\\json_analytics_from_test\\16-12-2021_21-38-8_modin_pandas_test_test_series.json\n",
      "\n",
      "---------------- \n",
      "\n",
      "Run testing -> modin/pandas/test/test_rolling.py \n",
      "\n",
      "Execute the command:\n",
      "set MODIN_EXPERIMENTAL=1 && set MODIN_ENGINE=Python && python -m pytest --simulate-cloud=normal --tb=short --json=test_analytics\\analytics_for_modin_0.12.0_2_after_fix\\json_analytics_from_test\\16-12-2021_22-27-58_modin_pandas_test_test_rolling.json modin/pandas/test/test_rolling.py\n",
      "\n"
     ]
    },
    {
     "name": "stderr",
     "output_type": "stream",
     "text": [
      "\r",
      " 71%|████████████████████████████████████████████████████████████████████████████████████████████████████████████████▉                                               | 12/17 [2:03:27<1:19:45, 957.18s/it]"
     ]
    },
    {
     "name": "stdout",
     "output_type": "stream",
     "text": [
      "The statistics for the test are saved in a file:\n",
      "C:\\prog\\modin\\test_analytics\\analytics_for_modin_0.12.0_2_after_fix\\json_analytics_from_test\\16-12-2021_22-27-58_modin_pandas_test_test_rolling.json\n",
      "\n",
      "---------------- \n",
      "\n",
      "Run testing -> modin/pandas/test/test_concat.py \n",
      "\n",
      "Execute the command:\n",
      "set MODIN_EXPERIMENTAL=1 && set MODIN_ENGINE=Python && python -m pytest --simulate-cloud=normal --tb=short --json=test_analytics\\analytics_for_modin_0.12.0_2_after_fix\\json_analytics_from_test\\16-12-2021_22-40-25_modin_pandas_test_test_concat.json modin/pandas/test/test_concat.py\n",
      "\n"
     ]
    },
    {
     "name": "stderr",
     "output_type": "stream",
     "text": [
      "\r",
      " 76%|███████████████████████████████████████████████████████████████████████████████████████████████████████████████████████████▉                                      | 13/17 [2:03:59<45:08, 677.19s/it]"
     ]
    },
    {
     "name": "stdout",
     "output_type": "stream",
     "text": [
      "The statistics for the test are saved in a file:\n",
      "C:\\prog\\modin\\test_analytics\\analytics_for_modin_0.12.0_2_after_fix\\json_analytics_from_test\\16-12-2021_22-40-25_modin_pandas_test_test_concat.json\n",
      "\n",
      "---------------- \n",
      "\n",
      "Run testing -> modin/pandas/test/test_groupby.py \n",
      "\n",
      "Execute the command:\n",
      "set MODIN_EXPERIMENTAL=1 && set MODIN_ENGINE=Python && python -m pytest --simulate-cloud=normal --tb=short --json=test_analytics\\analytics_for_modin_0.12.0_2_after_fix\\json_analytics_from_test\\16-12-2021_22-40-58_modin_pandas_test_test_groupby.json modin/pandas/test/test_groupby.py\n",
      "\n"
     ]
    },
    {
     "name": "stderr",
     "output_type": "stream",
     "text": [
      "\r",
      " 82%|█████████████████████████████████████████████████████████████████████████████████████████████████████████████████████████████████████▍                            | 14/17 [2:06:42<26:04, 521.62s/it]"
     ]
    },
    {
     "name": "stdout",
     "output_type": "stream",
     "text": [
      "The statistics for the test are saved in a file:\n",
      "C:\\prog\\modin\\test_analytics\\analytics_for_modin_0.12.0_2_after_fix\\json_analytics_from_test\\16-12-2021_22-40-58_modin_pandas_test_test_groupby.json\n",
      "\n",
      "---------------- \n",
      "\n",
      "Run testing -> modin/pandas/test/test_reshape.py \n",
      "\n",
      "Execute the command:\n",
      "set MODIN_EXPERIMENTAL=1 && set MODIN_ENGINE=Python && python -m pytest --simulate-cloud=normal --tb=short --json=test_analytics\\analytics_for_modin_0.12.0_2_after_fix\\json_analytics_from_test\\16-12-2021_22-43-40_modin_pandas_test_test_reshape.json modin/pandas/test/test_reshape.py\n",
      "\n"
     ]
    },
    {
     "name": "stderr",
     "output_type": "stream",
     "text": [
      "\r",
      " 88%|██████████████████████████████████████████████████████████████████████████████████████████████████████████████████████████████████████████████▉                   | 15/17 [2:06:54<12:16, 368.25s/it]"
     ]
    },
    {
     "name": "stdout",
     "output_type": "stream",
     "text": [
      "The statistics for the test are saved in a file:\n",
      "C:\\prog\\modin\\test_analytics\\analytics_for_modin_0.12.0_2_after_fix\\json_analytics_from_test\\16-12-2021_22-43-40_modin_pandas_test_test_reshape.json\n",
      "\n",
      "---------------- \n",
      "\n",
      "Run testing -> modin/pandas/test/test_general.py \n",
      "\n",
      "Execute the command:\n",
      "set MODIN_EXPERIMENTAL=1 && set MODIN_ENGINE=Python && python -m pytest --simulate-cloud=normal --tb=short --json=test_analytics\\analytics_for_modin_0.12.0_2_after_fix\\json_analytics_from_test\\16-12-2021_22-43-53_modin_pandas_test_test_general.json modin/pandas/test/test_general.py\n",
      "\n"
     ]
    },
    {
     "name": "stderr",
     "output_type": "stream",
     "text": [
      "\r",
      " 94%|████████████████████████████████████████████████████████████████████████████████████████████████████████████████████████████████████████████████████████▍         | 16/17 [2:07:14<04:23, 263.33s/it]"
     ]
    },
    {
     "name": "stdout",
     "output_type": "stream",
     "text": [
      "The statistics for the test are saved in a file:\n",
      "C:\\prog\\modin\\test_analytics\\analytics_for_modin_0.12.0_2_after_fix\\json_analytics_from_test\\16-12-2021_22-43-53_modin_pandas_test_test_general.json\n",
      "\n",
      "---------------- \n",
      "\n",
      "Run testing -> modin/pandas/test/test_io.py \n",
      "\n",
      "Execute the command:\n",
      "set MODIN_EXPERIMENTAL=1 && set MODIN_ENGINE=Python && python -m pytest --simulate-cloud=normal --tb=short --json=test_analytics\\analytics_for_modin_0.12.0_2_after_fix\\json_analytics_from_test\\16-12-2021_22-44-12_modin_pandas_test_test_io.json modin/pandas/test/test_io.py\n",
      "\n"
     ]
    },
    {
     "name": "stderr",
     "output_type": "stream",
     "text": [
      "100%|██████████████████████████████████████████████████████████████████████████████████████████████████████████████████████████████████████████████████████████████████| 17/17 [2:10:30<00:00, 460.63s/it]"
     ]
    },
    {
     "name": "stdout",
     "output_type": "stream",
     "text": [
      "The statistics for the test are saved in a file:\n",
      "C:\\prog\\modin\\test_analytics\\analytics_for_modin_0.12.0_2_after_fix\\json_analytics_from_test\\16-12-2021_22-44-12_modin_pandas_test_test_io.json\n",
      "\n",
      "---------------- \n",
      "\n"
     ]
    },
    {
     "name": "stderr",
     "output_type": "stream",
     "text": [
      "\n"
     ]
    }
   ],
   "source": [
    "for file_test in tqdm(list_file_test):\n",
    "    pop.start_test(path_dir, file_test, environment_variables=environment_variables, \n",
    "                   args_pytest=args_pytest,\n",
    "                   path_dir_for_save=path_to_save)\n",
    "    print(f'---------------- \\n')"
   ]
  },
  {
   "cell_type": "code",
   "execution_count": null,
   "id": "76e5a155",
   "metadata": {},
   "outputs": [],
   "source": []
  }
 ],
 "metadata": {
  "kernelspec": {
   "display_name": "Python 3",
   "language": "python",
   "name": "python3"
  },
  "language_info": {
   "codemirror_mode": {
    "name": "ipython",
    "version": 3
   },
   "file_extension": ".py",
   "mimetype": "text/x-python",
   "name": "python",
   "nbconvert_exporter": "python",
   "pygments_lexer": "ipython3",
   "version": "3.8.11"
  }
 },
 "nbformat": 4,
 "nbformat_minor": 5
}
