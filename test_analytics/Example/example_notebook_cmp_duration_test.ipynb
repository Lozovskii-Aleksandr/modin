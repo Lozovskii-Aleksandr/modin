{
 "cells": [
  {
   "cell_type": "markdown",
   "metadata": {},
   "source": [
    "# Analysis of the duration of tests\n"
   ]
  },
  {
   "cell_type": "markdown",
   "metadata": {},
   "source": [
    "## Problem definition\n"
   ]
  },
  {
   "cell_type": "markdown",
   "metadata": {},
   "source": [
    "We want to analyze the test execution time locally and with the `--modin in the cloud ' flag.\n",
    "\n",
    "**Problem**: When running with the flag, some tests run much longer than without the flag. For example, the `test_map_metadata` runs for about 2 hours and 30 minutes, while without the flag it runs for less than 5 minutes.\n",
    "\n",
    "**Task**: Analyze the tests and their duration and find the slowest tests.\n"
   ]
  },
  {
   "cell_type": "markdown",
   "metadata": {},
   "source": [
    "## Getting temporary statistics for the `test_map_metadata`"
   ]
  },
  {
   "cell_type": "markdown",
   "metadata": {},
   "source": [
    "Importing the `ParseOutputPytest` modules"
   ]
  },
  {
   "cell_type": "code",
   "execution_count": 1,
   "metadata": {},
   "outputs": [],
   "source": [
    "from ParseOutputPytest import *\n",
    "\n",
    "pop = ParseOutputPytest()"
   ]
  },
  {
   "cell_type": "markdown",
   "metadata": {},
   "source": [
    "Let's install the folder from where we will execute the command to run the tests"
   ]
  },
  {
   "cell_type": "code",
   "execution_count": 2,
   "metadata": {},
   "outputs": [],
   "source": [
    "path_dir = 'C:\\\\prog\\\\modin'"
   ]
  },
  {
   "cell_type": "markdown",
   "metadata": {},
   "source": [
    "We will get json for the test that is running without a flag"
   ]
  },
  {
   "cell_type": "code",
   "execution_count": 3,
   "metadata": {},
   "outputs": [],
   "source": [
    "# Path to the test\n",
    "path_test_map_metadata = 'modin\\\\pandas\\\\test\\dataframe\\\\test_map_metadata.py'\n",
    "environment_variables_without_cloud = 'set MODIN_ENGINE=Python'\n",
    "\n",
    "# Let's start collecting statistics for the test without flag\n",
    "# file_name_test_map_metadata_without_cloud = pop.start_test(path_dir, path_test_map_metadata, environment_variables=environment_variables_without_cloud)\n",
    "\n",
    "# Path to statistics in json format\n",
    "file_name_test_map_metadata_without_cloud = 'json_analytics_from_test\\\\23-7-2021_12-29-52_modin_pandas_test_dataframe_test_map_metadata.json'"
   ]
  },
  {
   "cell_type": "markdown",
   "metadata": {},
   "source": [
    "We will get json for the test that is running with a flag"
   ]
  },
  {
   "cell_type": "code",
   "execution_count": 4,
   "metadata": {},
   "outputs": [],
   "source": [
    "# Path to the test\n",
    "path_test_map_metadata = 'modin\\\\pandas\\\\test\\dataframe\\\\test_map_metadata.py'\n",
    "environment_variables_with_cloud = 'set MODIN_EXPERIMENTAL=1 && set MODIN_ENGINE=Python'\n",
    "pytest_args_with_cloud = '--simulate-cloud=normal'\n",
    "\n",
    "# Let's start collecting statistics for the test with flag\n",
    "# file_name_test_map_metadata_without_cloud = pop.start_test(path_dir, path_test_map_metadata, environment_variables=environment_variables_with_cloud, args_pytest=pytest_args_with_cloud)\n",
    "\n",
    "# Path to statistics in json format\n",
    "file_name_test_map_metadata_with_cloud = 'json_analytics_from_test\\\\modin_pandas_test_dataframe_test_map_metadata.json'"
   ]
  },
  {
   "cell_type": "markdown",
   "metadata": {},
   "source": [
    "Let's get dict, where key - name of the test, and value - duration of the test"
   ]
  },
  {
   "cell_type": "code",
   "execution_count": 5,
   "metadata": {},
   "outputs": [],
   "source": [
    "dict_test_metadata_duration_without_cloud = pop.get_dict_test_duration(file_name_test_map_metadata_without_cloud)\n",
    "dict_test_metadata_duration_with_cloud = pop.get_dict_test_duration(file_name_test_map_metadata_with_cloud)"
   ]
  },
  {
   "cell_type": "markdown",
   "metadata": {},
   "source": [
    "Create dict, where key - name of the test, and value - module of the time difference between the execution of these test"
   ]
  },
  {
   "cell_type": "code",
   "execution_count": 6,
   "metadata": {},
   "outputs": [],
   "source": [
    "# Let's go through only the `with_cloud` dict, since there are fewer tests passed in it.\n",
    "\n",
    "dict_name_abs_duration = {}\n",
    "\n",
    "for name, duration_with_cloud in dict_test_metadata_duration_with_cloud.items():\n",
    "    dict_name_abs_duration[name] = abs(duration_with_cloud - dict_test_metadata_duration_without_cloud[name])\n",
    "\n",
    "# Let's get a list of pairs (test name, time difference) sorted by the second field\n",
    "list_sort_test = sorted(dict_name_abs_duration.items(), key=lambda x: x[1], reverse=True)"
   ]
  },
  {
   "cell_type": "markdown",
   "metadata": {},
   "source": [
    "Output the slowest tests in the `test_map_metadata` file"
   ]
  },
  {
   "cell_type": "code",
   "execution_count": 7,
   "metadata": {},
   "outputs": [
    {
     "name": "stdout",
     "output_type": "stream",
     "text": [
      "Test: modin/pandas/test/dataframe/test_map_metadata.py::test_applymap[square-float_nan_data]\n",
      "  Time difference: 58.733764299999976\n",
      "\n",
      "Test: modin/pandas/test/dataframe/test_map_metadata.py::test_applymap_numeric[plus one-float_nan_data]\n",
      "  Time difference: 56.32550849999994\n",
      "\n",
      "Test: modin/pandas/test/dataframe/test_map_metadata.py::test_applymap[plus one-float_nan_data]\n",
      "  Time difference: 55.36009379999998\n",
      "\n",
      "Test: modin/pandas/test/dataframe/test_map_metadata.py::test_applymap_numeric[square-float_nan_data]\n",
      "  Time difference: 54.68688940000002\n",
      "\n",
      "Test: modin/pandas/test/dataframe/test_map_metadata.py::test_at[float_nan_data]\n",
      "  Time difference: 53.90222800000005\n",
      "\n",
      "Test: modin/pandas/test/dataframe/test_map_metadata.py::test_get[does not exist-float_nan_data]\n",
      "  Time difference: 49.598026999999846\n",
      "\n",
      "Test: modin/pandas/test/dataframe/test_map_metadata.py::test_set_index[append_False-drop_None-float_nan_data]\n",
      "  Time difference: 38.22146690000339\n",
      "\n",
      "Test: modin/pandas/test/dataframe/test_map_metadata.py::test_set_index[append_None-drop_None-float_nan_data]\n",
      "  Time difference: 37.73883549999993\n",
      "\n",
      "Test: modin/pandas/test/dataframe/test_map_metadata.py::test_set_index[append_None-drop_False-float_nan_data]\n",
      "  Time difference: 37.50182920000128\n",
      "\n",
      "Test: modin/pandas/test/dataframe/test_map_metadata.py::test_set_index[append_False-drop_False-float_nan_data]\n",
      "  Time difference: 37.4579210999946\n",
      "\n"
     ]
    }
   ],
   "source": [
    "count_test = 10\n",
    "\n",
    "for _, test_with_duration in zip(range(count_test), list_sort_test):\n",
    "    print(f'Test: {test_with_duration[0]}')\n",
    "    print(f'  Time difference: {test_with_duration[1]}')\n",
    "    print('')"
   ]
  }
 ],
 "metadata": {
  "interpreter": {
   "hash": "0164592e50740c884f3c212fdfd09eb575d2d867372f70a01aaaef73514311d0"
  },
  "kernelspec": {
   "display_name": "Python 3",
   "language": "python",
   "name": "python3"
  },
  "language_info": {
   "codemirror_mode": {
    "name": "ipython",
    "version": 3
   },
   "file_extension": ".py",
   "mimetype": "text/x-python",
   "name": "python",
   "nbconvert_exporter": "python",
   "pygments_lexer": "ipython3",
   "version": "3.8.11"
  }
 },
 "nbformat": 4,
 "nbformat_minor": 2
}
