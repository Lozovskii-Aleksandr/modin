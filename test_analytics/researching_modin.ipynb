{
 "cells": [
  {
   "cell_type": "code",
   "execution_count": 1,
   "id": "ed2b5f8e",
   "metadata": {},
   "outputs": [],
   "source": [
    "import os\n",
    "import sys\n",
    "import inspect\n",
    "from ParseOutputPytest import ParseOutputPytest\n",
    "\n",
    "currentdir = os.path.dirname(os.path.abspath(inspect.getfile(inspect.currentframe())))\n",
    "parentdir = os.path.dirname(currentdir)\n",
    "sys.path.insert(0, parentdir)\n",
    "\n",
    "pop = ParseOutputPytest()"
   ]
  },
  {
   "cell_type": "code",
   "execution_count": 2,
   "id": "de92820a",
   "metadata": {},
   "outputs": [],
   "source": [
    "path_dir_0_12_1 = 'analytics_for_modin_0.12.1\\\\json_analytics_from_test'\n",
    "path_dir_0_12_1_with_path_getattribute = 'analytics_for_modin_0.12.1_2_fix_getattribute\\\\json_analytics_from_test'\n",
    "number_line = 9"
   ]
  },
  {
   "cell_type": "code",
   "execution_count": 3,
   "id": "10671a61",
   "metadata": {},
   "outputs": [],
   "source": [
    "# Get a list of tests in the folder\n",
    "list_files_1 = tuple(os.walk(path_dir_0_12_1))[0][2]\n",
    "list_files_2 = tuple(os.walk(path_dir_0_12_1_with_path_getattribute))[0][2]"
   ]
  },
  {
   "cell_type": "code",
   "execution_count": 4,
   "id": "63049868",
   "metadata": {},
   "outputs": [],
   "source": [
    "# Get for each {test: traceback}\n",
    "list_dict_1 = []\n",
    "res_1 = {}\n",
    "for name_file_test in list_files_1:\n",
    "    if 'test_reduction' in name_file_test or 'test_reduce' in name_file_test:\n",
    "        continue\n",
    "    new_dict = pop.get_dict_name_with_results(f'{path_dir_0_12_1}\\\\{name_file_test}')\n",
    "    res_1.update(new_dict)"
   ]
  },
  {
   "cell_type": "code",
   "execution_count": 5,
   "id": "79e4615f",
   "metadata": {},
   "outputs": [
    {
     "data": {
      "text/plain": [
       "12657"
      ]
     },
     "execution_count": 5,
     "metadata": {},
     "output_type": "execute_result"
    }
   ],
   "source": [
    "len(res_1)"
   ]
  },
  {
   "cell_type": "code",
   "execution_count": 6,
   "id": "45afe8a1",
   "metadata": {},
   "outputs": [],
   "source": [
    "# Get for each {test: traceback}\n",
    "list_dict_2 = []\n",
    "res_2 = {}\n",
    "for name_file_test in list_files_2:\n",
    "    if 'test_reduction' in name_file_test or 'test_reduce' in name_file_test:\n",
    "        continue\n",
    "    new_dict = pop.get_dict_name_with_results(f'{path_dir_0_12_1_with_path_getattribute}\\\\{name_file_test}')\n",
    "    res_2.update(new_dict)"
   ]
  },
  {
   "cell_type": "code",
   "execution_count": 7,
   "id": "1aa0d29c",
   "metadata": {},
   "outputs": [
    {
     "data": {
      "text/plain": [
       "12715"
      ]
     },
     "execution_count": 7,
     "metadata": {},
     "output_type": "execute_result"
    }
   ],
   "source": [
    "len(res_2)"
   ]
  },
  {
   "cell_type": "code",
   "execution_count": 8,
   "id": "cad9c5a7",
   "metadata": {},
   "outputs": [
    {
     "data": {
      "text/plain": [
       "{'failed - modin/pandas/test/dataframe/test_map_metadata.py::test_droplevel',\n",
       " 'failed - modin/pandas/test/test_groupby.py::test_dict_agg_rename_mi_columns[False-reduction-1-False]',\n",
       " 'failed - modin/pandas/test/test_groupby.py::test_dict_agg_rename_mi_columns[False-reduction-1-True]',\n",
       " 'failed - modin/pandas/test/test_groupby.py::test_dict_agg_rename_mi_columns[False-reduction-3-False]',\n",
       " 'failed - modin/pandas/test/test_groupby.py::test_dict_agg_rename_mi_columns[False-reduction-3-True]',\n",
       " 'failed - modin/pandas/test/test_series.py::test_agg[sum df sum-float_nan_data]',\n",
       " 'failed - modin/pandas/test/test_series.py::test_agg[sum mean-float_nan_data]',\n",
       " 'failed - modin/pandas/test/test_series.py::test_agg_except[sum sum-float_nan_data]',\n",
       " 'failed - modin/pandas/test/test_series.py::test_agg_numeric[sum df sum-float_nan_data]',\n",
       " 'failed - modin/pandas/test/test_series.py::test_agg_numeric[sum mean-float_nan_data]',\n",
       " 'failed - modin/pandas/test/test_series.py::test_agg_numeric_except[sum sum-float_nan_data]',\n",
       " 'failed - modin/pandas/test/test_series.py::test_aggregate[sum df sum-float_nan_data]',\n",
       " 'failed - modin/pandas/test/test_series.py::test_aggregate[sum mean-float_nan_data]',\n",
       " 'failed - modin/pandas/test/test_series.py::test_aggregate_except[sum sum-float_nan_data]',\n",
       " 'failed - modin/pandas/test/test_series.py::test_aggregate_numeric[sum df sum-float_nan_data]',\n",
       " 'failed - modin/pandas/test/test_series.py::test_aggregate_numeric[sum mean-float_nan_data]',\n",
       " 'failed - modin/pandas/test/test_series.py::test_aggregate_numeric_except[sum sum-float_nan_data]',\n",
       " 'failed - modin/pandas/test/test_series.py::test_apply_text_func[all-float_nan_data--1-0]',\n",
       " 'failed - modin/pandas/test/test_series.py::test_apply_text_func[all-float_nan_data--1-1]',\n",
       " 'failed - modin/pandas/test/test_series.py::test_apply_text_func[all-float_nan_data--1-None]',\n",
       " 'failed - modin/pandas/test/test_series.py::test_apply_text_func[all-float_nan_data-0-1]',\n",
       " 'failed - modin/pandas/test/test_series.py::test_apply_text_func[all-float_nan_data-1-0]',\n",
       " 'failed - modin/pandas/test/test_series.py::test_apply_text_func[all-float_nan_data-1-1]',\n",
       " 'failed - modin/pandas/test/test_series.py::test_apply_text_func[all-float_nan_data-1-None]',\n",
       " 'failed - modin/pandas/test/test_series.py::test_apply_text_func[all-float_nan_data-None-1]',\n",
       " 'failed - modin/pandas/test/test_series.py::test_apply_text_func[array-float_nan_data--1-0]',\n",
       " 'failed - modin/pandas/test/test_series.py::test_apply_text_func[array-float_nan_data--1-1]',\n",
       " 'failed - modin/pandas/test/test_series.py::test_apply_text_func[array-float_nan_data--1-None]',\n",
       " 'failed - modin/pandas/test/test_series.py::test_apply_text_func[array-float_nan_data-0-1]',\n",
       " 'failed - modin/pandas/test/test_series.py::test_apply_text_func[array-float_nan_data-1-0]',\n",
       " 'failed - modin/pandas/test/test_series.py::test_apply_text_func[array-float_nan_data-1-1]',\n",
       " 'failed - modin/pandas/test/test_series.py::test_apply_text_func[array-float_nan_data-1-None]',\n",
       " 'failed - modin/pandas/test/test_series.py::test_apply_text_func[array-float_nan_data-None-1]',\n",
       " 'failed - modin/pandas/test/test_series.py::test_apply_text_func[count-float_nan_data--1-0]',\n",
       " 'failed - modin/pandas/test/test_series.py::test_apply_text_func[count-float_nan_data--1-1]',\n",
       " 'failed - modin/pandas/test/test_series.py::test_apply_text_func[count-float_nan_data--1-None]',\n",
       " 'failed - modin/pandas/test/test_series.py::test_apply_text_func[count-float_nan_data-0-1]',\n",
       " 'failed - modin/pandas/test/test_series.py::test_apply_text_func[count-float_nan_data-1-0]',\n",
       " 'failed - modin/pandas/test/test_series.py::test_apply_text_func[count-float_nan_data-1-1]',\n",
       " 'failed - modin/pandas/test/test_series.py::test_apply_text_func[count-float_nan_data-1-None]',\n",
       " 'failed - modin/pandas/test/test_series.py::test_apply_text_func[count-float_nan_data-None-1]',\n",
       " 'failed - modin/pandas/test/test_series.py::test_apply_text_func[kurt-float_nan_data--1-0]',\n",
       " 'failed - modin/pandas/test/test_series.py::test_apply_text_func[kurt-float_nan_data--1-1]',\n",
       " 'failed - modin/pandas/test/test_series.py::test_apply_text_func[kurt-float_nan_data--1-None]',\n",
       " 'failed - modin/pandas/test/test_series.py::test_apply_text_func[kurt-float_nan_data-0-1]',\n",
       " 'failed - modin/pandas/test/test_series.py::test_apply_text_func[kurt-float_nan_data-1-0]',\n",
       " 'failed - modin/pandas/test/test_series.py::test_apply_text_func[kurt-float_nan_data-1-1]',\n",
       " 'failed - modin/pandas/test/test_series.py::test_apply_text_func[kurt-float_nan_data-1-None]',\n",
       " 'failed - modin/pandas/test/test_series.py::test_apply_text_func[kurt-float_nan_data-None-1]',\n",
       " 'failed - modin/pandas/test/test_series.py::test_apply_text_func[searchsorted-float_nan_data--1-0]',\n",
       " 'failed - modin/pandas/test/test_series.py::test_apply_text_func[searchsorted-float_nan_data--1-1]',\n",
       " 'failed - modin/pandas/test/test_series.py::test_apply_text_func[searchsorted-float_nan_data--1-None]',\n",
       " 'failed - modin/pandas/test/test_series.py::test_apply_text_func[searchsorted-float_nan_data-0-0]',\n",
       " 'failed - modin/pandas/test/test_series.py::test_apply_text_func[searchsorted-float_nan_data-0-1]',\n",
       " 'failed - modin/pandas/test/test_series.py::test_apply_text_func[searchsorted-float_nan_data-0-None]',\n",
       " 'failed - modin/pandas/test/test_series.py::test_apply_text_func[searchsorted-float_nan_data-1-0]',\n",
       " 'failed - modin/pandas/test/test_series.py::test_apply_text_func[searchsorted-float_nan_data-1-1]',\n",
       " 'failed - modin/pandas/test/test_series.py::test_apply_text_func[searchsorted-float_nan_data-1-None]',\n",
       " 'failed - modin/pandas/test/test_series.py::test_apply_text_func[searchsorted-float_nan_data-None-0]',\n",
       " 'failed - modin/pandas/test/test_series.py::test_apply_text_func[searchsorted-float_nan_data-None-1]',\n",
       " 'failed - modin/pandas/test/test_series.py::test_apply_text_func[searchsorted-float_nan_data-None-None]',\n",
       " 'passed - modin/pandas/test/dataframe/test_default.py::test_resampler_functions[prod-columns-5T]',\n",
       " 'passed - modin/pandas/test/dataframe/test_default.py::test_resampler_functions[sum-columns-5T]',\n",
       " 'passed - modin/pandas/test/test_general.py::test_empty_dataframe',\n",
       " 'passed - modin/pandas/test/test_general.py::test_merge',\n",
       " 'passed - modin/pandas/test/test_series.py::test_cat_remove_unused_categories[False-ordered]',\n",
       " 'passed - modin/pandas/test/test_series.py::test_cat_remove_unused_categories[False-unordered]',\n",
       " 'passed - modin/pandas/test/test_series.py::test_cat_remove_unused_categories[True-ordered]',\n",
       " 'passed - modin/pandas/test/test_series.py::test_cat_remove_unused_categories[True-unordered]'}"
      ]
     },
     "execution_count": 8,
     "metadata": {},
     "output_type": "execute_result"
    }
   ],
   "source": [
    "set(res_1.keys()) - set(res_2.keys())"
   ]
  },
  {
   "cell_type": "code",
   "execution_count": 9,
   "id": "e360eb11",
   "metadata": {},
   "outputs": [
    {
     "data": {
      "text/plain": [
       "{'failed - modin/pandas/test/dataframe/test_default.py::test_resampler_functions[prod-columns-5T]',\n",
       " 'failed - modin/pandas/test/dataframe/test_default.py::test_resampler_functions[sum-columns-5T]',\n",
       " 'failed - modin/pandas/test/dataframe/test_indexing.py::test_loc_iloc_slice_indexer[slice_indexer0-iloc]',\n",
       " 'failed - modin/pandas/test/dataframe/test_indexing.py::test_loc_iloc_slice_indexer[slice_indexer0-loc]',\n",
       " 'failed - modin/pandas/test/dataframe/test_indexing.py::test_loc_iloc_slice_indexer[slice_indexer1-iloc]',\n",
       " 'failed - modin/pandas/test/dataframe/test_indexing.py::test_loc_iloc_slice_indexer[slice_indexer1-loc]',\n",
       " 'failed - modin/pandas/test/dataframe/test_indexing.py::test_loc_iloc_slice_indexer[slice_indexer2-iloc]',\n",
       " 'failed - modin/pandas/test/dataframe/test_indexing.py::test_loc_iloc_slice_indexer[slice_indexer2-loc]',\n",
       " 'failed - modin/pandas/test/dataframe/test_indexing.py::test_loc_iloc_slice_indexer[slice_indexer3-iloc]',\n",
       " 'failed - modin/pandas/test/dataframe/test_indexing.py::test_loc_iloc_slice_indexer[slice_indexer3-loc]',\n",
       " 'failed - modin/pandas/test/dataframe/test_indexing.py::test_loc_iloc_slice_indexer[slice_indexer4-iloc]',\n",
       " 'failed - modin/pandas/test/dataframe/test_indexing.py::test_loc_iloc_slice_indexer[slice_indexer4-loc]',\n",
       " 'failed - modin/pandas/test/dataframe/test_indexing.py::test_loc_iloc_slice_indexer[slice_indexer5-iloc]',\n",
       " 'failed - modin/pandas/test/dataframe/test_indexing.py::test_loc_iloc_slice_indexer[slice_indexer5-loc]',\n",
       " 'failed - modin/pandas/test/dataframe/test_indexing.py::test_loc_iloc_slice_indexer[slice_indexer6-iloc]',\n",
       " 'failed - modin/pandas/test/dataframe/test_indexing.py::test_loc_iloc_slice_indexer[slice_indexer6-loc]',\n",
       " 'failed - modin/pandas/test/test_general.py::test_empty_dataframe',\n",
       " 'failed - modin/pandas/test/test_general.py::test_merge',\n",
       " 'failed - modin/pandas/test/test_groupby.py::test_dict_agg_rename_mi_columns[False-reduce-1-False]',\n",
       " 'failed - modin/pandas/test/test_groupby.py::test_dict_agg_rename_mi_columns[False-reduce-1-True]',\n",
       " 'failed - modin/pandas/test/test_groupby.py::test_dict_agg_rename_mi_columns[False-reduce-3-False]',\n",
       " 'failed - modin/pandas/test/test_groupby.py::test_dict_agg_rename_mi_columns[False-reduce-3-True]',\n",
       " 'failed - modin/pandas/test/test_groupby.py::test_groupby_with_kwarg_dropna[col_name+level_name-False]',\n",
       " 'failed - modin/pandas/test/test_groupby.py::test_groupby_with_kwarg_dropna[col_name+level_name-True]',\n",
       " 'failed - modin/pandas/test/test_groupby.py::test_groupby_with_kwarg_dropna[col_name-False]',\n",
       " 'failed - modin/pandas/test/test_groupby.py::test_groupby_with_kwarg_dropna[col_name-True]',\n",
       " 'failed - modin/pandas/test/test_groupby.py::test_groupby_with_kwarg_dropna[col_name_multi_by-False]',\n",
       " 'failed - modin/pandas/test/test_groupby.py::test_groupby_with_kwarg_dropna[col_name_multi_by-True]',\n",
       " 'failed - modin/pandas/test/test_groupby.py::test_groupby_with_kwarg_dropna[level_idx+name-False]',\n",
       " 'failed - modin/pandas/test/test_groupby.py::test_groupby_with_kwarg_dropna[level_idx+name-True]',\n",
       " 'failed - modin/pandas/test/test_groupby.py::test_groupby_with_kwarg_dropna[level_idx-False]',\n",
       " 'failed - modin/pandas/test/test_groupby.py::test_groupby_with_kwarg_dropna[level_idx-True]',\n",
       " 'failed - modin/pandas/test/test_groupby.py::test_groupby_with_kwarg_dropna[level_idx_axis=1-False]',\n",
       " 'failed - modin/pandas/test/test_groupby.py::test_groupby_with_kwarg_dropna[level_idx_axis=1-True]',\n",
       " 'failed - modin/pandas/test/test_groupby.py::test_groupby_with_kwarg_dropna[level_name-False]',\n",
       " 'failed - modin/pandas/test/test_groupby.py::test_groupby_with_kwarg_dropna[level_name-True]',\n",
       " 'failed - modin/pandas/test/test_groupby.py::test_groupby_with_kwarg_dropna[level_name_multi_by-False]',\n",
       " 'failed - modin/pandas/test/test_groupby.py::test_groupby_with_kwarg_dropna[level_name_multi_by-True]',\n",
       " 'failed - modin/pandas/test/test_series.py::test_agg[sum of certain elements-float_nan_data]',\n",
       " 'failed - modin/pandas/test/test_series.py::test_agg[sum of certain elements-int_data]',\n",
       " 'failed - modin/pandas/test/test_series.py::test_aggregate[sum of certain elements-float_nan_data]',\n",
       " 'failed - modin/pandas/test/test_series.py::test_aggregate[sum of certain elements-int_data]',\n",
       " 'failed - modin/pandas/test/test_series.py::test_apply[sum of certain elements-float_nan_data]',\n",
       " 'failed - modin/pandas/test/test_series.py::test_apply[sum of certain elements-int_data]',\n",
       " 'failed - modin/pandas/test/test_series.py::test_apply_numeric[sum of certain elements-float_nan_data]',\n",
       " 'failed - modin/pandas/test/test_series.py::test_apply_numeric[sum of certain elements-int_data]',\n",
       " 'failed - modin/pandas/test/test_series.py::test_cat_remove_unused_categories[False-ordered]',\n",
       " 'failed - modin/pandas/test/test_series.py::test_cat_remove_unused_categories[False-unordered]',\n",
       " 'failed - modin/pandas/test/test_series.py::test_cat_remove_unused_categories[True-ordered]',\n",
       " 'failed - modin/pandas/test/test_series.py::test_cat_remove_unused_categories[True-unordered]',\n",
       " 'failed - modin/pandas/test/test_series.py::test_count[categorical_series]',\n",
       " 'failed - modin/pandas/test/test_series.py::test_to_numpy[categorical_series]',\n",
       " 'failed - modin/pandas/test/test_series.py::test_transform[sum of certain elements-float_nan_data]',\n",
       " 'failed - modin/pandas/test/test_series.py::test_transform[sum of certain elements-int_data]',\n",
       " 'passed - modin/pandas/test/dataframe/test_default.py::test_to_numpy[categorical_ints]',\n",
       " 'passed - modin/pandas/test/dataframe/test_indexing.py::test___setitem__single_item_in_series',\n",
       " 'passed - modin/pandas/test/dataframe/test_map_metadata.py::test_droplevel',\n",
       " 'passed - modin/pandas/test/dataframe/test_udf.py::test_agg_apply[agg-sum of certain elements-0]',\n",
       " 'passed - modin/pandas/test/dataframe/test_udf.py::test_agg_apply[agg-sum of certain elements-1]',\n",
       " 'passed - modin/pandas/test/dataframe/test_udf.py::test_agg_apply[apply-sum of certain elements-0]',\n",
       " 'passed - modin/pandas/test/dataframe/test_udf.py::test_agg_apply[apply-sum of certain elements-1]',\n",
       " 'passed - modin/pandas/test/dataframe/test_udf.py::test_agg_apply_axis_names[agg-sum of certain elements-columns]',\n",
       " 'passed - modin/pandas/test/dataframe/test_udf.py::test_agg_apply_axis_names[agg-sum of certain elements-rows]',\n",
       " 'passed - modin/pandas/test/dataframe/test_udf.py::test_agg_apply_axis_names[apply-sum of certain elements-columns]',\n",
       " 'passed - modin/pandas/test/dataframe/test_udf.py::test_agg_apply_axis_names[apply-sum of certain elements-rows]',\n",
       " 'passed - modin/pandas/test/dataframe/test_udf.py::test_transform[sum of certain elements-float_nan_data]',\n",
       " 'passed - modin/pandas/test/dataframe/test_udf.py::test_transform[sum of certain elements-int_data]',\n",
       " 'passed - modin/pandas/test/test_series.py::test_agg[sum df sum-float_nan_data]',\n",
       " 'passed - modin/pandas/test/test_series.py::test_agg[sum mean-float_nan_data]',\n",
       " 'passed - modin/pandas/test/test_series.py::test_agg_except[sum sum-float_nan_data]',\n",
       " 'passed - modin/pandas/test/test_series.py::test_agg_numeric[sum df sum-float_nan_data]',\n",
       " 'passed - modin/pandas/test/test_series.py::test_agg_numeric[sum mean-float_nan_data]',\n",
       " 'passed - modin/pandas/test/test_series.py::test_agg_numeric[sum of certain elements-float_nan_data]',\n",
       " 'passed - modin/pandas/test/test_series.py::test_agg_numeric[sum of certain elements-int_data]',\n",
       " 'passed - modin/pandas/test/test_series.py::test_agg_numeric_except[sum sum-float_nan_data]',\n",
       " 'passed - modin/pandas/test/test_series.py::test_aggregate[sum df sum-float_nan_data]',\n",
       " 'passed - modin/pandas/test/test_series.py::test_aggregate[sum mean-float_nan_data]',\n",
       " 'passed - modin/pandas/test/test_series.py::test_aggregate_except[sum sum-float_nan_data]',\n",
       " 'passed - modin/pandas/test/test_series.py::test_aggregate_numeric[sum df sum-float_nan_data]',\n",
       " 'passed - modin/pandas/test/test_series.py::test_aggregate_numeric[sum mean-float_nan_data]',\n",
       " 'passed - modin/pandas/test/test_series.py::test_aggregate_numeric[sum of certain elements-float_nan_data]',\n",
       " 'passed - modin/pandas/test/test_series.py::test_aggregate_numeric[sum of certain elements-int_data]',\n",
       " 'passed - modin/pandas/test/test_series.py::test_aggregate_numeric_except[sum sum-float_nan_data]',\n",
       " 'passed - modin/pandas/test/test_series.py::test_apply_text_func[all-float_nan_data--1-0]',\n",
       " 'passed - modin/pandas/test/test_series.py::test_apply_text_func[all-float_nan_data--1-1]',\n",
       " 'passed - modin/pandas/test/test_series.py::test_apply_text_func[all-float_nan_data--1-None]',\n",
       " 'passed - modin/pandas/test/test_series.py::test_apply_text_func[all-float_nan_data-0-1]',\n",
       " 'passed - modin/pandas/test/test_series.py::test_apply_text_func[all-float_nan_data-1-0]',\n",
       " 'passed - modin/pandas/test/test_series.py::test_apply_text_func[all-float_nan_data-1-1]',\n",
       " 'passed - modin/pandas/test/test_series.py::test_apply_text_func[all-float_nan_data-1-None]',\n",
       " 'passed - modin/pandas/test/test_series.py::test_apply_text_func[all-float_nan_data-None-1]',\n",
       " 'passed - modin/pandas/test/test_series.py::test_apply_text_func[array-float_nan_data--1-0]',\n",
       " 'passed - modin/pandas/test/test_series.py::test_apply_text_func[array-float_nan_data--1-1]',\n",
       " 'passed - modin/pandas/test/test_series.py::test_apply_text_func[array-float_nan_data--1-None]',\n",
       " 'passed - modin/pandas/test/test_series.py::test_apply_text_func[array-float_nan_data-0-1]',\n",
       " 'passed - modin/pandas/test/test_series.py::test_apply_text_func[array-float_nan_data-1-0]',\n",
       " 'passed - modin/pandas/test/test_series.py::test_apply_text_func[array-float_nan_data-1-1]',\n",
       " 'passed - modin/pandas/test/test_series.py::test_apply_text_func[array-float_nan_data-1-None]',\n",
       " 'passed - modin/pandas/test/test_series.py::test_apply_text_func[array-float_nan_data-None-1]',\n",
       " 'passed - modin/pandas/test/test_series.py::test_apply_text_func[count-float_nan_data--1-0]',\n",
       " 'passed - modin/pandas/test/test_series.py::test_apply_text_func[count-float_nan_data--1-1]',\n",
       " 'passed - modin/pandas/test/test_series.py::test_apply_text_func[count-float_nan_data--1-None]',\n",
       " 'passed - modin/pandas/test/test_series.py::test_apply_text_func[count-float_nan_data-0-1]',\n",
       " 'passed - modin/pandas/test/test_series.py::test_apply_text_func[count-float_nan_data-1-0]',\n",
       " 'passed - modin/pandas/test/test_series.py::test_apply_text_func[count-float_nan_data-1-1]',\n",
       " 'passed - modin/pandas/test/test_series.py::test_apply_text_func[count-float_nan_data-1-None]',\n",
       " 'passed - modin/pandas/test/test_series.py::test_apply_text_func[count-float_nan_data-None-1]',\n",
       " 'passed - modin/pandas/test/test_series.py::test_apply_text_func[kurt-float_nan_data--1-0]',\n",
       " 'passed - modin/pandas/test/test_series.py::test_apply_text_func[kurt-float_nan_data--1-1]',\n",
       " 'passed - modin/pandas/test/test_series.py::test_apply_text_func[kurt-float_nan_data--1-None]',\n",
       " 'passed - modin/pandas/test/test_series.py::test_apply_text_func[kurt-float_nan_data-0-1]',\n",
       " 'passed - modin/pandas/test/test_series.py::test_apply_text_func[kurt-float_nan_data-1-0]',\n",
       " 'passed - modin/pandas/test/test_series.py::test_apply_text_func[kurt-float_nan_data-1-1]',\n",
       " 'passed - modin/pandas/test/test_series.py::test_apply_text_func[kurt-float_nan_data-1-None]',\n",
       " 'passed - modin/pandas/test/test_series.py::test_apply_text_func[kurt-float_nan_data-None-1]',\n",
       " 'passed - modin/pandas/test/test_series.py::test_apply_text_func[searchsorted-float_nan_data--1-0]',\n",
       " 'passed - modin/pandas/test/test_series.py::test_apply_text_func[searchsorted-float_nan_data--1-1]',\n",
       " 'passed - modin/pandas/test/test_series.py::test_apply_text_func[searchsorted-float_nan_data--1-None]',\n",
       " 'passed - modin/pandas/test/test_series.py::test_apply_text_func[searchsorted-float_nan_data-0-0]',\n",
       " 'passed - modin/pandas/test/test_series.py::test_apply_text_func[searchsorted-float_nan_data-0-1]',\n",
       " 'passed - modin/pandas/test/test_series.py::test_apply_text_func[searchsorted-float_nan_data-0-None]',\n",
       " 'passed - modin/pandas/test/test_series.py::test_apply_text_func[searchsorted-float_nan_data-1-0]',\n",
       " 'passed - modin/pandas/test/test_series.py::test_apply_text_func[searchsorted-float_nan_data-1-1]',\n",
       " 'passed - modin/pandas/test/test_series.py::test_apply_text_func[searchsorted-float_nan_data-1-None]',\n",
       " 'passed - modin/pandas/test/test_series.py::test_apply_text_func[searchsorted-float_nan_data-None-0]',\n",
       " 'passed - modin/pandas/test/test_series.py::test_apply_text_func[searchsorted-float_nan_data-None-1]',\n",
       " 'passed - modin/pandas/test/test_series.py::test_apply_text_func[searchsorted-float_nan_data-None-None]'}"
      ]
     },
     "execution_count": 9,
     "metadata": {},
     "output_type": "execute_result"
    }
   ],
   "source": [
    "set(res_2.keys()) - set(res_1.keys())"
   ]
  },
  {
   "cell_type": "code",
   "execution_count": 19,
   "id": "c9bae710",
   "metadata": {},
   "outputs": [
    {
     "name": "stdout",
     "output_type": "stream",
     "text": [
      "passed\n"
     ]
    }
   ],
   "source": [
    "test = 'passed - modin/pandas/test/test_series.py::test_agg[sum df sum-float_nan_data]'\n",
    "print(res_2[test])"
   ]
  }
 ],
 "metadata": {
  "kernelspec": {
   "display_name": "Python 3",
   "language": "python",
   "name": "python3"
  },
  "language_info": {
   "codemirror_mode": {
    "name": "ipython",
    "version": 3
   },
   "file_extension": ".py",
   "mimetype": "text/x-python",
   "name": "python",
   "nbconvert_exporter": "python",
   "pygments_lexer": "ipython3",
   "version": "3.8.11"
  }
 },
 "nbformat": 4,
 "nbformat_minor": 5
}
